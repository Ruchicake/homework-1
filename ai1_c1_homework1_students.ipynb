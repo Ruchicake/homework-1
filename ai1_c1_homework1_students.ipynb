{
 "cells": [
  {
   "cell_type": "markdown",
   "metadata": {},
   "source": [
    "![](fig/univ.png)\n",
    "\n",
    "# AI-1: ML/AI Basics\n",
    "## Homework 1: kNN and Linear Regression\n",
    "\n",
    "**AI1 Cohort 1**<br/>\n",
    "**Univ.AI**<br/>\n",
    "**Instructor**: Pavlos Protopapas<br />\n",
    "**Maximum Score**: 55\n",
    "\n",
    "<hr style=\"height:2.4pt\">"
   ]
  },
  {
   "cell_type": "code",
   "execution_count": 1,
   "metadata": {
    "ExecuteTime": {
     "end_time": "2020-09-20T19:34:56.143663Z",
     "start_time": "2020-09-20T19:34:55.838809Z"
    }
   },
   "outputs": [],
   "source": [
    "#RUN THIS CELL \n",
    "import requests\n",
    "from IPython.core.display import HTML"
   ]
  },
  {
   "cell_type": "code",
   "execution_count": 2,
   "metadata": {
    "ExecuteTime": {
     "end_time": "2020-09-20T19:34:56.159125Z",
     "start_time": "2020-09-20T19:34:56.143663Z"
    },
    "jupyter": {
     "outputs_hidden": true
    }
   },
   "outputs": [],
   "source": [
    "#RUN THIS CELL\n",
    "import os\n",
    "import pathlib\n",
    "working_dir = pathlib.Path().absolute()\n",
    "os.chdir(working_dir)"
   ]
  },
  {
   "cell_type": "markdown",
   "metadata": {
    "cell_id": "e3ac03bc-f0ec-4c6b-a41a-9c8eeaa80770",
    "colab_type": "text",
    "id": "-5WJkGo16514"
   },
   "source": [
    "<hr style=\"height:2pt\">\n",
    "\n",
    "<h2> INSTRUCTIONS </h2>\n",
    "\n",
    "\n",
    "- This homework is a jupyter notebook. Download and work on it in your local machine.\n",
    "\n",
    "- This homework should be submitted in pairs.\n",
    "\n",
    "- Ensure you and your partner together have submitted the homework only once. Multiple submissions of the same work will be penalised and will cost you 2 points.\n",
    "\n",
    "- Please restart the kernel and run the entire notebook again before you submit.\n",
    "\n",
    "- Running cells out of order is a common pitfall in Jupyter Notebooks. To make sure your code works restart the kernel and run the whole notebook again before you submit. \n",
    "\n",
    "- To submit the homework, either one of you upload the working notebook on edStem and click the submit button on the bottom right corner.\n",
    "\n",
    "- Submit the homework well before the given deadline. Submissions after the deadline will not be graded.\n",
    "\n",
    "- We have tried to include all the libraries you may need to do the assignment in the imports statement at the top of this notebook. We strongly suggest that you use those and not others as we may not be familiar with them.\n",
    "\n",
    "- Comment your code well. This would help the graders in case there is any issue with the notebook while running. It is important to remember that the graders will not troubleshoot your code. \n",
    "\n",
    "- Please use .head() when viewing data. Do not submit a notebook that is **excessively long**. \n",
    "\n",
    "- In questions that require code to answer, such as \"calculate the $R^2$\", do not just output the value from a cell. Write a `print()` function that includes a reference to the calculated value, **not hardcoded**. For example: \n",
    "```\n",
    "print(f'The R^2 is {R:.4f}')\n",
    "```\n",
    "- Your plots should include clear labels for the $x$ and $y$ axes as well as a descriptive title (\"MSE plot\" is not a descriptive title; \"95 % confidence interval of coefficients of polynomial degree 5\" is).\n",
    "\n",
    "<hr style=\"height:2pt\">"
   ]
  },
  {
   "cell_type": "markdown",
   "metadata": {
    "cell_id": "e3ac03bc-f0ec-4c6b-a41a-9c8eeaa80770",
    "colab_type": "text",
    "id": "-5WJkGo16514"
   },
   "source": [
    "<h2> Overview </h2> \n",
    "\n",
    "This assignment is the first where you will go through the process of loading a dataset, splitting it in train,validation and test sets, \n",
    "pre-processing it, and finally using it to run models and evaluating your results. \n",
    "\n",
    "We have two different datasets, one with car data in **Part 1** and another with data from an Indian matrimonial web site in **Part 2**.\n",
    "\n",
    "For part 1, you will explore two simple methods for prediction,  **k-nearest neighbors regression (kNN)**, a *non-parametric* method, and **linear regression**, a *parametric* method. As you move towards Part 2 of the homework, you will work with multiple linear and polynomial regression."
   ]
  },
  {
   "cell_type": "markdown",
   "metadata": {
    "cell_id": "e3ac03bc-f0ec-4c6b-a41a-9c8eeaa80770",
    "colab_type": "text",
    "id": "-5WJkGo16514"
   },
   "source": [
    "### Names of the people who worked on this homework together\n",
    "#### /names here/"
   ]
  },
  {
   "cell_type": "code",
   "execution_count": 3,
   "metadata": {
    "ExecuteTime": {
     "end_time": "2020-09-20T19:34:56.175619Z",
     "start_time": "2020-09-20T19:34:56.162084Z"
    },
    "cell_id": "90930c76-e0ee-41b6-ae34-3507c55c55ad",
    "tags": []
   },
   "outputs": [],
   "source": [
    "# !pip install seaborn"
   ]
  },
  {
   "cell_type": "code",
   "execution_count": 4,
   "metadata": {
    "ExecuteTime": {
     "end_time": "2020-09-20T19:34:58.079574Z",
     "start_time": "2020-09-20T19:34:56.175619Z"
    },
    "cell_id": "c0d45bbc-accf-40bf-9819-f21abadc79a6",
    "colab": {
     "base_uri": "https://localhost:8080/",
     "height": 71
    },
    "colab_type": "code",
    "id": "Gj0IyRyyID1e",
    "jupyter": {
     "outputs_hidden": true
    },
    "outputId": "252f49e5-6651-4bd7-e138-ff8f67d1e551"
   },
   "outputs": [],
   "source": [
    "# Importing standard libraries\n",
    "import numpy as np\n",
    "import operator\n",
    "import pandas as pd\n",
    "import matplotlib\n",
    "import matplotlib.pyplot as plt\n",
    "from sklearn.metrics import r2_score\n",
    "from sklearn.metrics import mean_squared_error\n",
    "from sklearn.neighbors import KNeighborsRegressor\n",
    "import seaborn as sns\n",
    "from sklearn.model_selection import train_test_split\n",
    "from sklearn.linear_model import LinearRegression\n",
    "\n",
    "# Pandas tricks for better display\n",
    "pd.options.display.max_columns = 50  \n",
    "pd.options.display.max_rows = 500     \n",
    "pd.options.display.max_colwidth = 100\n",
    "pd.options.display.precision = 3\n",
    "\n",
    "# Part 2 imports \n",
    "from scipy.stats import norm\n",
    "from sklearn.preprocessing import PolynomialFeatures"
   ]
  },
  {
   "cell_type": "code",
   "execution_count": 5,
   "metadata": {
    "ExecuteTime": {
     "end_time": "2020-09-20T19:34:58.126254Z",
     "start_time": "2020-09-20T19:34:58.083596Z"
    },
    "cell_id": "d745a3c0-49ec-46d5-939a-4a12a891ecf2",
    "colab": {},
    "colab_type": "code",
    "id": "K1A-j6ks652C"
   },
   "outputs": [],
   "source": [
    "# Run this cell for more readable visuals \n",
    "large = 22; med = 16; small = 10\n",
    "params = {'axes.titlesize': large,\n",
    "          'legend.fontsize': med,\n",
    "          'figure.figsize': (16, 10),\n",
    "          'axes.labelsize': med,\n",
    "          'axes.titlesize': med,\n",
    "          'axes.linewidth': 2,\n",
    "          'xtick.labelsize': med,\n",
    "          'ytick.labelsize': med,\n",
    "          'figure.titlesize': large}\n",
    "plt.style.use('seaborn-whitegrid')\n",
    "plt.rcParams.update(params)\n",
    "%matplotlib inline"
   ]
  },
  {
   "cell_type": "markdown",
   "metadata": {
    "cell_id": "7e70ce31-0411-4589-8fca-2c9592b4f4cc",
    "colab_type": "text",
    "id": "XL6pJ_Em652E"
   },
   "source": [
    "<div class=\"alert alert-block alert-danger\" style=\"color:black;background-color:#F6E6E2\">\n",
    "<h2 style=\"color:black;background-color:#F6E6E2\"> Part A: k-NN and Linear Regression [30 points total] </h2>    <br />\n",
    "\n",
    "\n",
    "### Problem Description: Predicting the Selling Price of Cars on CarDekho.com\n",
    "\n",
    "According to its website, **CarDekho.com** is India's leading car search venture. \n",
    "Its website and app carry rich automotive content such as expert reviews, \n",
    "detailed specs and prices, comparisons as well as videos and pictures of all car brands and models available in India. \n",
    "Each car has a **Current selling price**, which is the price for buying the car on this site, and a **MRP**, \n",
    "which is the retail price of the car. These two prices differ depending on factors such as brand, \n",
    "make year, mileage, condition, etc.  \n",
    "    \n",
    "#### DATASET\n",
    "\n",
    "The dataset contains 601 cars and is in file `car_dekho_full.csv`. It contains the following columns:\n",
    "\n",
    "- **Year** - make year (year the car was made), \n",
    "- **Current_Selling_Price** - current price of a car on CarDekho.com (in lakhs),\n",
    "- **MRP** - maximum retail price of a car (in lakhs),\n",
    "- **Kms_Driven** - number of kilometers\n",
    "\n",
    "Note: 1 *lakh*  is 100,000 Rupees in the Indian numbering system. Also, kilometers are used as a measure of distance instead of miles.\n",
    "\n",
    "#### Your Task: \n",
    "Predict the `Current_Selling_Price` from the other features.\n"
   ]
  },
  {
   "cell_type": "markdown",
   "metadata": {
    "cell_id": "f730863d-8973-4500-a833-88ae80ff8d60",
    "colab_type": "text",
    "id": "56zUJ3q4652F"
   },
   "source": [
    "\n",
    "\n",
    "<div class=\"alert alert-block alert-danger\" style=\"color:black;background-color:#F6E6E2\">\n",
    "<b> Question 1:   Exploratory Data Analysis (EDA) [10 points total]</b>\n",
    "\n",
    "To reach the goal of predicting the `Current_Selling_Price`, start by inspecting the dataset using Exploratory Data Analysis (EDA).\n",
    "\n",
    "Load the dataset, inspect it and answer the following questions: \n",
    "\n",
    "**1.1** [2pts] Which variables are quantitative, and which are categorical? \n",
    "\n",
    "**1.2** [2pts] What are the means and standard deviations for `Current_Selling_Price` and `MRP`? \n",
    "\n",
    "**1.3** [2pts] What is the range of Kilometers that the cars have?\n",
    "\n",
    "**1.4** [4pts] The goal of this part is to identify the best variable from which to predict our respone variable `Current Selling Price`. Plot a scatter plot between each predictor and reponse variable and examine the relationship between the predictors and `Current_Selling_Price`. Based on the plots, which is the  predictor that visually seems to best predict the `Current_Selling_Price`? \n",
    "    \n",
    "**Note**: Label your axes.\n",
    "</div>"
   ]
  },
  {
   "cell_type": "markdown",
   "metadata": {},
   "source": [
    "# Exploratory Data Analysis"
   ]
  },
  {
   "cell_type": "code",
   "execution_count": 6,
   "metadata": {
    "ExecuteTime": {
     "end_time": "2020-09-20T19:34:58.184018Z",
     "start_time": "2020-09-20T19:34:58.133869Z"
    }
   },
   "outputs": [
    {
     "data": {
      "text/html": [
       "<div>\n",
       "<style scoped>\n",
       "    .dataframe tbody tr th:only-of-type {\n",
       "        vertical-align: middle;\n",
       "    }\n",
       "\n",
       "    .dataframe tbody tr th {\n",
       "        vertical-align: top;\n",
       "    }\n",
       "\n",
       "    .dataframe thead th {\n",
       "        text-align: right;\n",
       "    }\n",
       "</style>\n",
       "<table border=\"1\" class=\"dataframe\">\n",
       "  <thead>\n",
       "    <tr style=\"text-align: right;\">\n",
       "      <th></th>\n",
       "      <th>Year</th>\n",
       "      <th>Current_Selling_Price</th>\n",
       "      <th>MRP</th>\n",
       "      <th>Kms_Driven</th>\n",
       "    </tr>\n",
       "  </thead>\n",
       "  <tbody>\n",
       "    <tr>\n",
       "      <th>0</th>\n",
       "      <td>2016</td>\n",
       "      <td>5.25</td>\n",
       "      <td>5.70</td>\n",
       "      <td>3493</td>\n",
       "    </tr>\n",
       "    <tr>\n",
       "      <th>1</th>\n",
       "      <td>2005</td>\n",
       "      <td>3.51</td>\n",
       "      <td>13.70</td>\n",
       "      <td>75000</td>\n",
       "    </tr>\n",
       "    <tr>\n",
       "      <th>2</th>\n",
       "      <td>2010</td>\n",
       "      <td>0.31</td>\n",
       "      <td>1.05</td>\n",
       "      <td>213000</td>\n",
       "    </tr>\n",
       "    <tr>\n",
       "      <th>3</th>\n",
       "      <td>2006</td>\n",
       "      <td>2.10</td>\n",
       "      <td>7.60</td>\n",
       "      <td>50456</td>\n",
       "    </tr>\n",
       "    <tr>\n",
       "      <th>4</th>\n",
       "      <td>2005</td>\n",
       "      <td>0.20</td>\n",
       "      <td>0.57</td>\n",
       "      <td>55000</td>\n",
       "    </tr>\n",
       "  </tbody>\n",
       "</table>\n",
       "</div>"
      ],
      "text/plain": [
       "   Year  Current_Selling_Price    MRP  Kms_Driven\n",
       "0  2016                   5.25   5.70        3493\n",
       "1  2005                   3.51  13.70       75000\n",
       "2  2010                   0.31   1.05      213000\n",
       "3  2006                   2.10   7.60       50456\n",
       "4  2005                   0.20   0.57       55000"
      ]
     },
     "execution_count": 6,
     "metadata": {},
     "output_type": "execute_result"
    }
   ],
   "source": [
    "# Load the data\n",
    "cars_df = pd.read_csv('data/car_dekho_full.csv')\n",
    "cars_df.head()"
   ]
  },
  {
   "cell_type": "code",
   "execution_count": 7,
   "metadata": {
    "ExecuteTime": {
     "end_time": "2020-09-20T19:34:58.249751Z",
     "start_time": "2020-09-20T19:34:58.188075Z"
    }
   },
   "outputs": [
    {
     "data": {
      "text/html": [
       "<div>\n",
       "<style scoped>\n",
       "    .dataframe tbody tr th:only-of-type {\n",
       "        vertical-align: middle;\n",
       "    }\n",
       "\n",
       "    .dataframe tbody tr th {\n",
       "        vertical-align: top;\n",
       "    }\n",
       "\n",
       "    .dataframe thead th {\n",
       "        text-align: right;\n",
       "    }\n",
       "</style>\n",
       "<table border=\"1\" class=\"dataframe\">\n",
       "  <thead>\n",
       "    <tr style=\"text-align: right;\">\n",
       "      <th></th>\n",
       "      <th>Year</th>\n",
       "      <th>Current_Selling_Price</th>\n",
       "      <th>MRP</th>\n",
       "      <th>Kms_Driven</th>\n",
       "    </tr>\n",
       "  </thead>\n",
       "  <tbody>\n",
       "    <tr>\n",
       "      <th>count</th>\n",
       "      <td>601.000</td>\n",
       "      <td>601.000</td>\n",
       "      <td>601.000</td>\n",
       "      <td>601.000</td>\n",
       "    </tr>\n",
       "    <tr>\n",
       "      <th>mean</th>\n",
       "      <td>2013.887</td>\n",
       "      <td>4.393</td>\n",
       "      <td>6.912</td>\n",
       "      <td>33718.745</td>\n",
       "    </tr>\n",
       "    <tr>\n",
       "      <th>std</th>\n",
       "      <td>2.721</td>\n",
       "      <td>4.518</td>\n",
       "      <td>6.480</td>\n",
       "      <td>26846.657</td>\n",
       "    </tr>\n",
       "    <tr>\n",
       "      <th>min</th>\n",
       "      <td>2003.000</td>\n",
       "      <td>0.120</td>\n",
       "      <td>0.320</td>\n",
       "      <td>500.000</td>\n",
       "    </tr>\n",
       "    <tr>\n",
       "      <th>25%</th>\n",
       "      <td>2012.000</td>\n",
       "      <td>1.050</td>\n",
       "      <td>1.470</td>\n",
       "      <td>15000.000</td>\n",
       "    </tr>\n",
       "    <tr>\n",
       "      <th>50%</th>\n",
       "      <td>2015.000</td>\n",
       "      <td>3.600</td>\n",
       "      <td>6.050</td>\n",
       "      <td>30000.000</td>\n",
       "    </tr>\n",
       "    <tr>\n",
       "      <th>75%</th>\n",
       "      <td>2016.000</td>\n",
       "      <td>5.800</td>\n",
       "      <td>9.400</td>\n",
       "      <td>46500.000</td>\n",
       "    </tr>\n",
       "    <tr>\n",
       "      <th>max</th>\n",
       "      <td>2018.000</td>\n",
       "      <td>33.000</td>\n",
       "      <td>36.230</td>\n",
       "      <td>213000.000</td>\n",
       "    </tr>\n",
       "  </tbody>\n",
       "</table>\n",
       "</div>"
      ],
      "text/plain": [
       "           Year  Current_Selling_Price      MRP  Kms_Driven\n",
       "count   601.000                601.000  601.000     601.000\n",
       "mean   2013.887                  4.393    6.912   33718.745\n",
       "std       2.721                  4.518    6.480   26846.657\n",
       "min    2003.000                  0.120    0.320     500.000\n",
       "25%    2012.000                  1.050    1.470   15000.000\n",
       "50%    2015.000                  3.600    6.050   30000.000\n",
       "75%    2016.000                  5.800    9.400   46500.000\n",
       "max    2018.000                 33.000   36.230  213000.000"
      ]
     },
     "execution_count": 7,
     "metadata": {},
     "output_type": "execute_result"
    }
   ],
   "source": [
    "# Print the description about the whole dataframe\n",
    "cars_df.describe()"
   ]
  },
  {
   "cell_type": "markdown",
   "metadata": {
    "cell_id": "eaed1594-de29-4e01-aae5-b6a7f76f6303",
    "colab_type": "text",
    "id": "kCMMuQiS652F",
    "tags": []
   },
   "source": [
    "## Solutions "
   ]
  },
  {
   "cell_type": "markdown",
   "metadata": {
    "cell_id": "eaed1594-de29-4e01-aae5-b6a7f76f6303",
    "colab_type": "text",
    "id": "kCMMuQiS652F",
    "tags": []
   },
   "source": [
    "### 1.1\n",
    "\n",
    "**Which variables are quantitative, and which are categorical?**"
   ]
  },
  {
   "cell_type": "code",
   "execution_count": 8,
   "metadata": {
    "ExecuteTime": {
     "end_time": "2020-09-20T19:34:58.267723Z",
     "start_time": "2020-09-20T19:34:58.257711Z"
    },
    "cell_id": "c4c06885-2f94-4f6a-b179-f6b7f240f13a",
    "colab": {
     "base_uri": "https://localhost:8080/",
     "height": 119
    },
    "colab_type": "code",
    "id": "rM43pU2oZWwF",
    "outputId": "e1744532-62e7-492b-8a72-239064636dcc"
   },
   "outputs": [],
   "source": [
    "# Quantitative: All except Year\n",
    "# Categorical: Year\n"
   ]
  },
  {
   "cell_type": "markdown",
   "metadata": {
    "cell_id": "eaed1594-de29-4e01-aae5-b6a7f76f6303",
    "colab_type": "text",
    "id": "kCMMuQiS652F",
    "tags": []
   },
   "source": [
    "### 1.2\n",
    "\n",
    "**What are the means and standard deviations for Current_Selling_Price and MRP?**"
   ]
  },
  {
   "cell_type": "code",
   "execution_count": 9,
   "metadata": {
    "ExecuteTime": {
     "end_time": "2020-09-20T19:34:58.299951Z",
     "start_time": "2020-09-20T19:34:58.274724Z"
    }
   },
   "outputs": [
    {
     "name": "stdout",
     "output_type": "stream",
     "text": [
      "The mean Current Selling Price is 4.393078202995008 lakhs\n",
      "The mean MRP is 6.911552412645585 lakhs\n",
      "The Standard Deviation of Current Selling Price is 4.514554426823631\n",
      "The Standard Deviation of MRP is 6.47472759622026\n"
     ]
    }
   ],
   "source": [
    "# Name your variables as mean_csp, mean_mrp, std_csp, std_mrp\n",
    "\n",
    "# your code here\n",
    "mean_csp = np.mean(cars_df['Current_Selling_Price'])\n",
    "std_csp = np.std(cars_df['Current_Selling_Price'])\n",
    "mean_mrp = np.mean(cars_df['MRP'])\n",
    "std_mrp = np.std(cars_df['MRP'])\n",
    "\n",
    "# end your code here \n",
    "\n",
    "\n",
    "print (\"The mean Current Selling Price is\", mean_csp,\"lakhs\")\n",
    "print (\"The mean MRP is\", mean_mrp,'lakhs')\n",
    "print (\"The Standard Deviation of Current Selling Price is\", std_csp)\n",
    "print (\"The Standard Deviation of MRP is\", std_mrp)"
   ]
  },
  {
   "cell_type": "markdown",
   "metadata": {
    "cell_id": "eaed1594-de29-4e01-aae5-b6a7f76f6303",
    "colab_type": "text",
    "id": "kCMMuQiS652F",
    "tags": []
   },
   "source": [
    "### 1.3\n",
    "\n",
    "**What is the range of Kilometers that the cars have?**"
   ]
  },
  {
   "cell_type": "code",
   "execution_count": 10,
   "metadata": {
    "ExecuteTime": {
     "end_time": "2020-09-20T19:34:58.314906Z",
     "start_time": "2020-09-20T19:34:58.302948Z"
    },
    "cell_id": "bc35837a-ca32-40bd-b805-7cbaed8f4b48",
    "colab": {
     "base_uri": "https://localhost:8080/",
     "height": 34
    },
    "colab_type": "code",
    "id": "YBgFlNau652O",
    "outputId": "9350e79b-50c9-439f-940c-a77a5efbbc72",
    "tags": []
   },
   "outputs": [
    {
     "name": "stdout",
     "output_type": "stream",
     "text": [
      "The range of Kilometers that the cars have: 212500\n"
     ]
    }
   ],
   "source": [
    "# your code here\n",
    "cars_range = max(cars_df['Kms_Driven']) - min(cars_df['Kms_Driven'])\n",
    "print(f\"The range of Kilometers that the cars have: {cars_range}\")"
   ]
  },
  {
   "cell_type": "markdown",
   "metadata": {
    "cell_id": "eaed1594-de29-4e01-aae5-b6a7f76f6303",
    "colab_type": "text",
    "id": "kCMMuQiS652F",
    "tags": []
   },
   "source": [
    "### 1.4\n",
    "\n",
    "**The goal of this part is to identify the best variable from which to predict our respone variable Current Selling Price. Plot a scatter plot between each predictor and reponse variable and examine the relationship between the predictors and Current_Selling_Price. Based on the plots, which is the predictor that visually seem to best predict the Current_Selling_Price?**"
   ]
  },
  {
   "cell_type": "code",
   "execution_count": 11,
   "metadata": {
    "ExecuteTime": {
     "end_time": "2020-09-20T19:34:58.916664Z",
     "start_time": "2020-09-20T19:34:58.318948Z"
    },
    "cell_id": "e13ca8ad-8ae9-4550-b470-e0928d4216fa",
    "colab": {
     "base_uri": "https://localhost:8080/",
     "height": 491
    },
    "colab_type": "code",
    "id": "-B2z-1DzaWQw",
    "outputId": "f0806e7b-5481-4530-a505-f46286cd5af5"
   },
   "outputs": [
    {
     "data": {
      "image/png": "[encoded data removed]",
      "text/plain": [
       "<Figure size 1440x432 with 3 Axes>"
      ]
     },
     "metadata": {
      "needs_background": "light"
     },
     "output_type": "display_data"
    }
   ],
   "source": [
    "# your code here\n",
    "fig, ax = plt.subplots(1, 3, figsize=(20, 6))\n",
    "ax[0].scatter(cars_df.Year, cars_df.Current_Selling_Price)\n",
    "ax[1].scatter(cars_df.MRP, cars_df.Current_Selling_Price)\n",
    "ax[2].scatter(cars_df.Kms_Driven, cars_df.Current_Selling_Price)\n",
    "\n",
    "# set labels\n",
    "ax[0].set_xlabel('Year')\n",
    "ax[0].set_ylabel('Current Selling Price')\n",
    "ax[1].set_xlabel('MRP')\n",
    "ax[1].set_ylabel('Current Selling Price')\n",
    "ax[2].set_xlabel('Kms Driven')\n",
    "ax[2].set_ylabel('Current Selling Price')\n",
    "fig.suptitle(\"Year, MRP, Kms Driven VS Current Selling Price\")\n",
    "plt.show()"
   ]
  },
  {
   "cell_type": "markdown",
   "metadata": {
    "cell_id": "30657aff-3cf5-4fdd-9d71-92b5ad02229d",
    "colab_type": "text",
    "id": "EYRjeIA7652a",
    "tags": []
   },
   "source": [
    "**Ans: MRP**\n"
   ]
  },
  {
   "cell_type": "markdown",
   "metadata": {
    "cell_id": "975ddc7c-c6ac-4dd1-b74f-58d2c1166e5e",
    "colab_type": "text",
    "id": "J8zCuiT9653A"
   },
   "source": [
    "<div class=\"alert alert-block alert-danger\" style=\"color:black;background-color:#F6E6E2\">\n",
    "<b> Question 2:   k-Nearest Neighbors  [10 points total]</b>\n",
    "<br /><br />\n",
    "We begin our modeling with k-Nearest Neighbors (kNN) regression. You may use `sklearn`'s built-in functions.\n",
    "<br /><br />\n",
    "\n",
    "**2.1** [6pts] In this part, we will model a kNN regression on the predictor chosen above (1.4) and the response variable `Current_Selling_Price`.\n",
    "<br /><br />\n",
    "    \n",
    "INSTRUCTIONS:\n",
    "<br />\n",
    "- Split the dataset in train and test set with 75% training data and 25% testing data, using the random_state = 109.  \n",
    "<br />\n",
    "- Fit a kNN regression model to the training set for the following 8 different values of $k$:  $k = 1,2,3,5,7,10,50,100$. \n",
    "<br />\n",
    "- Make 8 scatter plots of response vs. predictor for each $k$, arranged in a $4\\times2$ grid.  Each figure should have plots of the prediction from the k-NN regression and the actual data points on the same figure, as well as axis labels, title, and legend. Consider using the subplot functionality, unless you first try this and then decide that you have a clearer, cleaner way of communicating these plots.\n",
    "<br />\n",
    "- Evaluate the $MSE$ for the fitted models on both the training and test sets **for each $k$**.\n",
    "<br />\n",
    "- Plot the training and test $MSE$ values as a function of $k$ on the same figure.  Again, the figure must have axis labels and a legend.\n",
    "<br />\n",
    "- Find the best model based on the test $MSE$ values.\n",
    "<br />\n",
    "- Evaluate and report the $R^2$ of the best model.\n",
    "\n",
    "<br /><br />\n",
    "**2.2** [4pts] Discuss your results by answering the following questions.  You should answer the questions directly in a markdown cell of your notebook.\n",
    "<br /><br />\n",
    "- How does the value of $k$ affect the fitted model?\n",
    "<br />\n",
    "- If $n$ is the number of observations in the training set, what can you say about a k-NN regression model that uses $k = n$?  \n",
    "- Do the training and test $MSE$ plots exhibit different trends?  Explain how the value of $k$ influences the training and test $MSE$ values.\n",
    "<br />\n",
    "- Run the same code by changing the random seed during the train-test split. Do you always get the same answer? If not, why?\n",
    "<br />\n",
    "    \n",
    "    </div>"
   ]
  },
  {
   "cell_type": "markdown",
   "metadata": {
    "cell_id": "6945faa8-539f-43ba-a531-337ccc393bda",
    "colab_type": "text",
    "id": "iZMcq7c4CKAT"
   },
   "source": [
    "### Solutions"
   ]
  },
  {
   "cell_type": "markdown",
   "metadata": {
    "cell_id": "eaed1594-de29-4e01-aae5-b6a7f76f6303",
    "colab_type": "text",
    "id": "kCMMuQiS652F",
    "tags": []
   },
   "source": [
    "### 2.1\n",
    "In this part, we will model a kNN regression on the predictor chosen above (1.4) and the response variable `Current_Selling_Price`."
   ]
  },
  {
   "cell_type": "code",
   "execution_count": 12,
   "metadata": {
    "ExecuteTime": {
     "end_time": "2020-09-20T19:34:58.990092Z",
     "start_time": "2020-09-20T19:34:58.916664Z"
    },
    "cell_id": "c81c05da-6e1e-4172-9fca-4d426b2d4018",
    "colab": {},
    "colab_type": "code",
    "id": "ariPVC-5hpCD"
   },
   "outputs": [],
   "source": [
    "#Choosing your predictor and response variable\n",
    "\n",
    "x = cars_df[['MRP']]\n",
    "y = cars_df['Current_Selling_Price']\n",
    "\n",
    "# end of your code here \n",
    "\n",
    "\n",
    "##Splitting the data into train and test sets with 75% training data and 25% testing data. Set random_state=109\n",
    "x_train, x_test, y_train, y_test = train_test_split(x, y, test_size=0.25, random_state=109)\n",
    "\n",
    "# end of your code here  \n",
    "\n",
    "\n",
    "## Fit a kNN regression model to the training set for the following 8 different values of  𝑘 :  𝑘=1,2,3,5,7,10,50,100 .\n",
    "## and make 8 scatter plots of response vs. predictor for each  𝑘 , arranged in a  4×2  grid. \n",
    "## Each figure should have plots of the prediction from the k-NN regression and the actual data points on the same figure, as well as axis labels, title, and legend \n",
    "k_list = [1, 2, 3, 5, 7, 10, 50, 100]\n",
    "mse_train_dict = {}\n",
    "mse_test_dict = {}\n",
    "predictions = {}\n",
    "\n",
    "for k in k_list:\n",
    "    knn = KNeighborsRegressor(n_neighbors=k)\n",
    "    knn.fit(x_train, y_train)\n",
    "    y_train_pred = knn.predict(x_train)\n",
    "    y_test_pred = knn.predict(x_test)\n",
    "    predictions[k] = y_test_pred\n",
    "    mse_train_dict[k] = mean_squared_error(y_train, y_train_pred)\n",
    "    mse_test_dict[k] = mean_squared_error(y_test, y_test_pred)\n",
    "    \n",
    "# Plotting\n",
    "# fig, ax = plt.subplots(4, 2, figsize=(10, 20))\n",
    "\n",
    "# k = 0\n",
    "# for i in range(4):\n",
    "#     for j in range(2):\n",
    "#         ax[i][j].scatter(x_test, y_test, color='green')\n",
    "#         ax[i][j].scatter(predictions[k_list[k]], y_test, color='red')\n",
    "#         ax[i][j].set_xlabel(f\"K={k_list[k]}\")\n",
    "#         k += 1\n",
    "\n"
   ]
  },
  {
   "cell_type": "markdown",
   "metadata": {},
   "source": [
    "# Temporary Plot"
   ]
  },
  {
   "cell_type": "code",
   "execution_count": 13,
   "metadata": {
    "ExecuteTime": {
     "end_time": "2020-09-20T19:35:01.584140Z",
     "start_time": "2020-09-20T19:34:58.990092Z"
    }
   },
   "outputs": [
    {
     "data": {
      "image/png": "[encoded data removed]",
      "text/plain": [
       "<Figure size 720x1440 with 8 Axes>"
      ]
     },
     "metadata": {},
     "output_type": "display_data"
    }
   ],
   "source": [
    "sns.set(font_scale=1.1)\n",
    "fig, ax = plt.subplots(4, 2, figsize=(10, 20))\n",
    "ax[0][0].scatter(x_test, y_test, label=\"actual data\")\n",
    "ax[0][0].scatter(x_test, predictions[1], label=\"predicted data\")\n",
    "ax[0][1].scatter(x_test, y_test, label=\"actual data\")\n",
    "ax[0][1].scatter(x_test, predictions[2], label=\"predicted data\")\n",
    "ax[1][0].scatter(x_test, y_test, label=\"actual data\")\n",
    "ax[1][0].scatter(x_test, predictions[3], label=\"predicted data\")\n",
    "ax[1][1].scatter(x_test, y_test, label=\"actual data\")\n",
    "ax[1][1].scatter(x_test, predictions[5], label=\"predicted data\")\n",
    "ax[2][0].scatter(x_test, y_test, label=\"actual data\")\n",
    "ax[2][0].scatter(x_test, predictions[7], label=\"predicted data\")\n",
    "ax[2][1].scatter(x_test, y_test, label=\"actual data\")\n",
    "ax[2][1].scatter(x_test, predictions[10], label=\"predicted data\")\n",
    "ax[3][0].scatter(x_test, y_test, label=\"actual data\")\n",
    "ax[3][0].scatter(x_test, predictions[50], label=\"predicted data\")\n",
    "ax[3][1].scatter(x_test, y_test, label=\"actual data\", color='red')\n",
    "ax[3][1].scatter(x_test, predictions[100], label=\"predicted data\", color='green')\n",
    "\n",
    "k = 0\n",
    "for i in range(4):\n",
    "    for j in range(2):\n",
    "        ax[i][j].legend(fontsize='small')\n",
    "        ax[i][j].set_ylabel('Current Selling Price')\n",
    "        ax[i][j].set_title(f\"K={k_list[k]}\")\n",
    "        k += 1\n",
    "ax[3][0].set_xlabel('MRP')\n",
    "ax[3][1].set_xlabel('MRP')\n",
    "\n",
    "fig.suptitle(\"Comparison of actual & predicted data for different values of k\\n(MRP vs Current Selling Price)\")\n",
    "plt.show()"
   ]
  },
  {
   "cell_type": "code",
   "execution_count": 14,
   "metadata": {
    "ExecuteTime": {
     "end_time": "2020-09-20T19:35:02.036345Z",
     "start_time": "2020-09-20T19:35:01.584140Z"
    },
    "cell_id": "b23b23d1-5a2d-48fe-bbff-b373a155e51f",
    "colab": {
     "base_uri": "https://localhost:8080/",
     "height": 513
    },
    "colab_type": "code",
    "id": "zGOrNK2B653F",
    "outputId": "47e9cafe-e18c-4438-c6f4-cf8d02c0e17f"
   },
   "outputs": [
    {
     "data": {
      "image/png": "[encoded data removed]",
      "text/plain": [
       "<Figure size 432x288 with 1 Axes>"
      ]
     },
     "metadata": {},
     "output_type": "display_data"
    }
   ],
   "source": [
    "# Now make the MSE plots\n",
    "plt.plot(list(mse_train_dict.keys()), list(mse_train_dict.values()), label='train mse')\n",
    "plt.plot(list(mse_test_dict.keys()), list(mse_test_dict.values()), label='test mse')\n",
    "plt.xlabel(\"K\")\n",
    "plt.ylabel(\"Mean squared error\")\n",
    "plt.legend()\n",
    "plt.show()"
   ]
  },
  {
   "cell_type": "code",
   "execution_count": 15,
   "metadata": {
    "ExecuteTime": {
     "end_time": "2020-09-20T19:35:02.404720Z",
     "start_time": "2020-09-20T19:35:02.036345Z"
    },
    "cell_id": "4fd7f27b-54de-42ae-9da3-26bed05db487",
    "colab": {},
    "colab_type": "code",
    "id": "orqXeQ1xHd-U"
   },
   "outputs": [
    {
     "name": "stdout",
     "output_type": "stream",
     "text": [
      "Best model is the model with k=7\n",
      "The MSE for the best model is: 1.9218710771725909\n"
     ]
    },
    {
     "data": {
      "image/png": "[encoded data removed]",
      "text/plain": [
       "<Figure size 432x288 with 1 Axes>"
      ]
     },
     "metadata": {},
     "output_type": "display_data"
    }
   ],
   "source": [
    "# Find the best model\n",
    "temp = min(mse_test_dict.values())\n",
    "k_min = [k for k in mse_test_dict if mse_test_dict[k]==temp]\n",
    "print(f\"Best model is the model with k={k_min[0]}\")\n",
    "\n",
    "# Plot vertical line at min value of k\n",
    "plt.plot(list(mse_train_dict.keys()), list(mse_train_dict.values()), label='train mse')\n",
    "plt.plot(list(mse_test_dict.keys()), list(mse_test_dict.values()), label='test mse')\n",
    "plt.axvline(k_min[0], color='red')\n",
    "plt.xlabel(\"K\")\n",
    "plt.ylabel(\"Mean squared error\")\n",
    "plt.legend()\n",
    "print(\"The MSE for the best model is:\", temp)\n",
    "plt.show()\n",
    "\n"
   ]
  },
  {
   "cell_type": "code",
   "execution_count": 16,
   "metadata": {
    "ExecuteTime": {
     "end_time": "2020-09-20T19:35:02.420170Z",
     "start_time": "2020-09-20T19:35:02.404720Z"
    },
    "cell_id": "4fd7f27b-54de-42ae-9da3-26bed05db487",
    "colab": {},
    "colab_type": "code",
    "id": "orqXeQ1xHd-U",
    "scrolled": true
   },
   "outputs": [
    {
     "name": "stdout",
     "output_type": "stream",
     "text": [
      "The R2 Score for the best model is: 0.88067733251126\n"
     ]
    }
   ],
   "source": [
    "##Compute the R-squared for the best model\n",
    "knn_best = KNeighborsRegressor(n_neighbors=7)\n",
    "knn_best.fit(x_train, y_train)\n",
    "y_pred = knn_best.predict(x_test)\n",
    "r2 = r2_score(y_test, y_pred)\n",
    "\n",
    "print(\"The R2 Score for the best model is:\", r2)"
   ]
  },
  {
   "cell_type": "markdown",
   "metadata": {
    "cell_id": "eaed1594-de29-4e01-aae5-b6a7f76f6303",
    "colab_type": "text",
    "id": "kCMMuQiS652F",
    "tags": []
   },
   "source": [
    "### 2.2"
   ]
  },
  {
   "cell_type": "markdown",
   "metadata": {
    "cell_id": "336b5a99-d756-4d0a-9c9a-d129d84fc73d",
    "colab_type": "text",
    "id": "BQoKQlOt653H"
   },
   "source": [
    "**Your answer here**\n",
    "\n",
    "**a) How does the value of $k$ affect the fitted model?**\n",
    "<br />\n",
    " As we increase the value of K, our predictions become more and more stable due to majority or average voting but only up to a certain point. After that point, increasing the value of K will lead to the increase in error.\n",
    "\n",
    "\n",
    "**b) If $n$ is the number of observations in the training set, what can you say about a k-NN regression model that uses $k = n$?**\n",
    "<br />\n",
    "If we use K number of neighbors with K = n with n being the number of observations, we risk overfitting our model, leaving it unable to generalize well on observations it hasn’t yet seen.\n",
    "<br />\n",
    "\n",
    "**c) Do the training and test $MSE$ plots exhibit different trends?  Explain how the value of $k$ influences the training and test $MSE$ values.**\n",
    "<br />\n",
    "\n",
    "**d) Run the same code by changing the random seed during the train-test split. Do you always get the same answer? If not, why?**\n",
    "\n"
   ]
  },
  {
   "cell_type": "markdown",
   "metadata": {
    "cell_id": "0df4f7c4-d116-437d-82e9-31e392449549",
    "colab_type": "text",
    "id": "fTVuBYybmZUU"
   },
   "source": [
    "<div class=\"alert alert-block alert-danger\" style=\"color:black;background-color:#F6E6E2\">\n",
    "<b> Question 3:  Simple Linear Regression   [10 points total]</b>\n",
    "<br /><br />\n",
    "\n",
    "**3.1** [5pts] We will now fit our data using a linear regression model. Choose the same **predictor** and **response** variables used to model kNN regression.\n",
    "<br /><br />\n",
    "- You will use the same 75% training and 25% testing split of the data, using the same random_state = 109. \n",
    "<br />\n",
    "- Run a Linear Regression model.\n",
    "<br />\n",
    "- Report the slope/coefficient and intercept values for the fitted linear model.\n",
    "<br />\n",
    "- Report the $MSE$ for the training and test sets and the $R^2$ from the test set.\n",
    "<br />\n",
    "- Plot the **residuals** $e = y - \\hat{y}$ of the model on the training set as a function of the response variable. Draw a horizontal line denoting the zero residual value on the Y-axis. Discuss the shape of the plot and what it shows for the quality of the model.\n",
    "<br /><br />\n",
    "\n",
    "**Note:** Use the `sklearn` module for linear regression. This module has built-in functions to summarize the results of regression and produce residual plots. Create a `Linear Regression` model, use the `fit` method in the instance for fitting a linear regression model, and use the `predict` method to make predictions. As previously, you may use the `mean_squared_error` function to compute $MSE$.\n",
    "<br /><br />\n",
    "**3.2** [5pts] Discuss your results by answering the following questions.  \n",
    "<br />\n",
    "- How does the test $MSE$ score compare with the best test $MSE$ value obtained with k-NN regression? \n",
    "<br />\n",
    "- What does the sign of the slope of the fitted linear model convey about the data? \n",
    "<br />\n",
    "- Based on the residual plot that you made, discuss whether or not the assumption of linearity is valid for this data.\n",
    "<br /><br />\n",
    "    </div>\n"
   ]
  },
  {
   "cell_type": "markdown",
   "metadata": {},
   "source": [
    "### Solutions"
   ]
  },
  {
   "cell_type": "markdown",
   "metadata": {
    "cell_id": "eaed1594-de29-4e01-aae5-b6a7f76f6303",
    "colab_type": "text",
    "id": "kCMMuQiS652F",
    "tags": []
   },
   "source": [
    "### 3.1\n",
    "**Predict the selling price**"
   ]
  },
  {
   "cell_type": "code",
   "execution_count": 17,
   "metadata": {
    "ExecuteTime": {
     "end_time": "2020-09-20T19:35:02.435119Z",
     "start_time": "2020-09-20T19:35:02.421440Z"
    },
    "cell_id": "c1fe1ac5-8d71-474f-99fd-728403e1769a",
    "colab": {},
    "colab_type": "code",
    "id": "kFK9EZbRmXPg",
    "jupyter": {
     "outputs_hidden": true
    }
   },
   "outputs": [],
   "source": [
    "#Choosing your predictor and response variable\n",
    "\n",
    "x = cars_df[['MRP']]\n",
    "y = cars_df['Current_Selling_Price']\n",
    "\n",
    "x_train, x_test, y_train, y_test = train_test_split(x, y, test_size=0.25, random_state=109)"
   ]
  },
  {
   "cell_type": "code",
   "execution_count": 18,
   "metadata": {
    "ExecuteTime": {
     "end_time": "2020-09-20T19:35:03.204613Z",
     "start_time": "2020-09-20T19:35:02.438126Z"
    },
    "cell_id": "c1fe1ac5-8d71-474f-99fd-728403e1769a",
    "colab": {},
    "colab_type": "code",
    "id": "kFK9EZbRmXPg"
   },
   "outputs": [
    {
     "name": "stdout",
     "output_type": "stream",
     "text": [
      "slope of a model: [0.61565992]\n",
      "intercept of a model: 0.11236987692104439\n",
      "\n",
      "Train MSE: 4.713332797955166\n",
      "Test MSE: 3.136167052174168\n",
      "R2 Score: 0.8052856808135865\n"
     ]
    },
    {
     "data": {
      "image/png": "[encoded data removed]",
      "text/plain": [
       "<Figure size 1080x432 with 2 Axes>"
      ]
     },
     "metadata": {},
     "output_type": "display_data"
    }
   ],
   "source": [
    "## Fit a linear model to the train data\n",
    "linreg = LinearRegression()\n",
    "linreg.fit(x_train, y_train)\n",
    "y_train_pred = linreg.predict(x_train)\n",
    "y_test_pred = linreg.predict(x_test)\n",
    "lin_residuals = y_train - y_train_pred\n",
    "train_mse = mean_squared_error(y_train, y_train_pred)\n",
    "test_mse = mean_squared_error(y_test, y_test_pred)\n",
    "test_r2 = r2_score(y_test, y_test_pred)\n",
    "\n",
    "print(f\"slope of a model: {linreg.coef_}\")\n",
    "print(f\"intercept of a model: {linreg.intercept_}\\n\")\n",
    "\n",
    "print(f\"Train MSE: {train_mse}\")\n",
    "print(f\"Test MSE: {test_mse}\")\n",
    "print(f\"R2 Score: {test_r2}\")\n",
    "\n",
    "# end of your code here \n",
    "\n",
    "\n",
    "## Plot the **residuals** \n",
    "# your code here\n",
    "fig, ax = plt.subplots(1, 2, figsize=(15, 6))\n",
    "ax[0].plot(y_train_pred, lin_residuals, 'bo')\n",
    "ax[0].axhline(0, color='red')\n",
    "ax[0].set_xlabel('Predicted Values')\n",
    "ax[0].set_ylabel('Residuals')\n",
    "ax[0].set_title('Distribution of predicted value with residuals')\n",
    "ax[1].hist(lin_residuals)\n",
    "ax[1].set_xlabel('Residuals')\n",
    "ax[1].set_ylabel('Frequency')\n",
    "ax[1].set_title(\"Distribution of residuals\");\n"
   ]
  },
  {
   "cell_type": "markdown",
   "metadata": {
    "cell_id": "eaed1594-de29-4e01-aae5-b6a7f76f6303",
    "colab_type": "text",
    "id": "kCMMuQiS652F",
    "tags": []
   },
   "source": [
    "### 3.2"
   ]
  },
  {
   "cell_type": "markdown",
   "metadata": {},
   "source": [
    "**Your answer here**\n",
    "\n",
    "**a) How does the test $MSE$ score compare with the best test $MSE$ value obtained with k-NN regression?**\n",
    "<br />\n",
    "MSE obtained from linear regression model is greater than MSE obtain from K-NN regression model\n",
    "\n",
    "**b) What does the sign of the slope of the fitted linear model convey about the data?**\n",
    "<br />\n",
    "Sign of the slope of the linear model is positive, so it shows the positive relationship between the predictor and response variable.\n",
    "\n",
    "**c) Based on the residual plot that you made, discuss whether or not the assumption of linearity is valid for this data.\n",
    "<br />**\n",
    "We can see that the most residuals are centered at zero, so the assumption of linearity is valid for this data. Regression also assumes that the residuals follow a normal distribution and from the above histogram we can see that the distribution of residuals are normal."
   ]
  },
  {
   "cell_type": "markdown",
   "metadata": {
    "cell_id": "f75ca718-99c3-4510-bf2e-53fbd9f1eb8d",
    "colab_type": "text",
    "id": "D6bKVOhn653e"
   },
   "source": [
    "<div class=\"alert alert-block alert-danger\" style=\"color:black;background-color:#F6E6E2\"><b> Question 4:  Linear Regression with Feature engineering  [Optional]</b>\n",
    "<br /><br />\n",
    "\n",
    "**4.1** [4pts] Creating a new variable from existing data: percentage depreciation\n",
    "<br />\n",
    "Feature engineering involves transforming data into features that better represent the underlying problem to the predictive models. This results in improved model accuracy on unseen data. \n",
    "<br />\n",
    "Our previous regression model relates the Current selling price to the MRP of the car with the equation:\n",
    "<br /><br />\n",
    "$$CSP = \\beta_0 + \\beta_1*MRP$$\n",
    "<br />\n",
    "However, this linear equation does not incorparate other interesting variables such as the ```year of manufacture```, or the ```kms driven```, which maybe important factors that affect the overall price of the car. \n",
    "<br />\n",
    "Instead of using multi-linear analysis, we can perform some intelligent feature engineering to identify other simple linear relationships within our data.\n",
    "<br />\n",
    "From practical experience, we know that the percentage drop of a car's price is proportional to the age of the car ([more on car depreciation here](https://www.finder.com/what-is-car-depreciation)). \n",
    "<br />\n",
    "Hence, it makes sense to investigate this variable seperately and try to identify possible relationships with other variables.  \n",
    "<br />\n",
    "Define the percentage depreciation of the Current selling price to the MRP as follows:\n",
    "<br /><br />\n",
    "$$\\textrm{Percentage of the Selling Price}=perc =\\frac{MRP - Selling Price}{MRP}$$\n",
    "    \n",
    "<br /><br />\n",
    "**4.2** [2pts] Exploratory Data Analysis\n",
    "<br /><br />\n",
    "For this section, we will consider `perc` to be our intermediate response variable. To understand the relationship between `perc` and our predictor variables we will perform EDA.\n",
    "<br /><br />\n",
    "Answer the following questions by plotting graphs.\n",
    "<br /><br />\n",
    "a) It is seen previously that there is a relationship between `Year` and `Current Selling Price`. Is the relationship between `Year` and `perc` the same. If not, how has it changed and why do you think so?\n",
    "<br />\n",
    "b) Is the trend between the `MRP` and `perc` the same as that between `MRP` and `Current Selling Price`?\n",
    "<br />\n",
    "c) Does there seem to be a relationship between `Kms_Driven` and `perc` ? \n",
    "<br />\n",
    "d) Which is the best predictor to predict `perc`, if there is one? Is it the same as that of `Current Selling price` or has it changed?\n",
    "<br /><br />\n",
    "**4.3** [2pts] Perform additional EDA \n",
    "<br /><br />\n",
    "Feel free to use other plots and statistics to find the best predictor and/or understand the relationship between variables. One example is given below. It is a plot of `Current Selling Price` vs `Year` that is color coded based on the `Kms_Driven`.\n",
    "<br /><br />\n",
    "**4.4** [5pts] Fitting a Linear Regression model\n",
    "<br /><br />\n",
    "Based on the previous EDA choose appropriate **feature** variable(s) and **response** variable.\n",
    "<br /><br />\n",
    "- Again, split the data into training data of 75% and testing data of 25%.\n",
    "<br />\n",
    "- Fit a Linear Regression model for each of the predictors.\n",
    "<br />\n",
    "- Predict the model for the train and test data.\n",
    "<br />\n",
    "- Plot a graph with the test data with predictor variable on the *x* axis and `perc` on the *y* axis. Also plot the fit curve. Ensure you use the correct labels and show the legend.\n",
    "<br />\n",
    "- Report the $MSE$ score from the training and test sets.\n",
    "<br />\n",
    "- Find the best model i.e. the best predictor based on the $MSE$ of each model.\n",
    "<br /><br />\n",
    "\n",
    "**4.5** [2pts] Predicting The Current Selling Price using ```perc``` \n",
    "<br /><br />\n",
    "After performing the above analysis, answer briefly as to why are we getting such a dramatic increase in the R2 score?\n",
    "    <br /><br />\n",
    " </div>"
   ]
  },
  {
   "cell_type": "markdown",
   "metadata": {
    "cell_id": "a7be4db8-2c8f-437e-b016-659c755a08f1",
    "colab_type": "text",
    "id": "KNnTUgmwkWs5"
   },
   "source": [
    "## Solutions"
   ]
  },
  {
   "cell_type": "markdown",
   "metadata": {
    "cell_id": "eaed1594-de29-4e01-aae5-b6a7f76f6303",
    "colab_type": "text",
    "id": "kCMMuQiS652F",
    "tags": []
   },
   "source": [
    "### 4.1"
   ]
  },
  {
   "cell_type": "code",
   "execution_count": 19,
   "metadata": {
    "ExecuteTime": {
     "end_time": "2020-09-20T19:35:03.233799Z",
     "start_time": "2020-09-20T19:35:03.208574Z"
    }
   },
   "outputs": [
    {
     "data": {
      "text/html": [
       "<div>\n",
       "<style scoped>\n",
       "    .dataframe tbody tr th:only-of-type {\n",
       "        vertical-align: middle;\n",
       "    }\n",
       "\n",
       "    .dataframe tbody tr th {\n",
       "        vertical-align: top;\n",
       "    }\n",
       "\n",
       "    .dataframe thead th {\n",
       "        text-align: right;\n",
       "    }\n",
       "</style>\n",
       "<table border=\"1\" class=\"dataframe\">\n",
       "  <thead>\n",
       "    <tr style=\"text-align: right;\">\n",
       "      <th></th>\n",
       "      <th>Year</th>\n",
       "      <th>Current_Selling_Price</th>\n",
       "      <th>MRP</th>\n",
       "      <th>Kms_Driven</th>\n",
       "    </tr>\n",
       "  </thead>\n",
       "  <tbody>\n",
       "    <tr>\n",
       "      <th>0</th>\n",
       "      <td>2016</td>\n",
       "      <td>5.25</td>\n",
       "      <td>5.70</td>\n",
       "      <td>3493</td>\n",
       "    </tr>\n",
       "    <tr>\n",
       "      <th>1</th>\n",
       "      <td>2005</td>\n",
       "      <td>3.51</td>\n",
       "      <td>13.70</td>\n",
       "      <td>75000</td>\n",
       "    </tr>\n",
       "    <tr>\n",
       "      <th>2</th>\n",
       "      <td>2010</td>\n",
       "      <td>0.31</td>\n",
       "      <td>1.05</td>\n",
       "      <td>213000</td>\n",
       "    </tr>\n",
       "    <tr>\n",
       "      <th>3</th>\n",
       "      <td>2006</td>\n",
       "      <td>2.10</td>\n",
       "      <td>7.60</td>\n",
       "      <td>50456</td>\n",
       "    </tr>\n",
       "    <tr>\n",
       "      <th>4</th>\n",
       "      <td>2005</td>\n",
       "      <td>0.20</td>\n",
       "      <td>0.57</td>\n",
       "      <td>55000</td>\n",
       "    </tr>\n",
       "  </tbody>\n",
       "</table>\n",
       "</div>"
      ],
      "text/plain": [
       "   Year  Current_Selling_Price    MRP  Kms_Driven\n",
       "0  2016                   5.25   5.70        3493\n",
       "1  2005                   3.51  13.70       75000\n",
       "2  2010                   0.31   1.05      213000\n",
       "3  2006                   2.10   7.60       50456\n",
       "4  2005                   0.20   0.57       55000"
      ]
     },
     "execution_count": 19,
     "metadata": {},
     "output_type": "execute_result"
    }
   ],
   "source": [
    "cars_df.head()"
   ]
  },
  {
   "cell_type": "code",
   "execution_count": 20,
   "metadata": {
    "ExecuteTime": {
     "end_time": "2020-09-20T19:35:03.249471Z",
     "start_time": "2020-09-20T19:35:03.233799Z"
    },
    "cell_id": "914e65cf-8ffa-46c1-9476-023e4afc73dc",
    "colab": {
     "base_uri": "https://localhost:8080/",
     "height": 204
    },
    "colab_type": "code",
    "id": "o6WX5hCnjyIU",
    "outputId": "84a15b40-5870-46f1-e8cf-00cb29f20178",
    "scrolled": true
   },
   "outputs": [],
   "source": [
    "#Create a new column perc and add to the dataframe\n",
    "perc = (cars_df['MRP'] -  cars_df['Current_Selling_Price']) / cars_df['MRP']\n",
    "\n",
    "#Creating a new column perc\n",
    "cars_df['perc'] = perc"
   ]
  },
  {
   "cell_type": "markdown",
   "metadata": {
    "cell_id": "eaed1594-de29-4e01-aae5-b6a7f76f6303",
    "colab_type": "text",
    "id": "kCMMuQiS652F",
    "tags": []
   },
   "source": [
    "### 4.2"
   ]
  },
  {
   "cell_type": "code",
   "execution_count": 21,
   "metadata": {
    "ExecuteTime": {
     "end_time": "2020-09-20T19:35:03.657405Z",
     "start_time": "2020-09-20T19:35:03.253433Z"
    },
    "cell_id": "a63dec60-5228-4840-9334-afb052381735",
    "colab": {
     "base_uri": "https://localhost:8080/",
     "height": 340
    },
    "colab_type": "code",
    "id": "4i8j1QnNMfEf",
    "outputId": "3a2c881e-f77e-4fa0-e1b0-19cc0fa0519d"
   },
   "outputs": [
    {
     "data": {
      "image/png": "[encoded data removed]",
      "text/plain": [
       "<Figure size 432x288 with 1 Axes>"
      ]
     },
     "metadata": {},
     "output_type": "display_data"
    }
   ],
   "source": [
    "# your code here\n",
    "plt.scatter(cars_df.Year, cars_df.perc)\n",
    "plt.xlabel('Year')\n",
    "plt.ylabel('perc')\n",
    "plt.title('Perc VS Year Relationship');"
   ]
  },
  {
   "cell_type": "markdown",
   "metadata": {
    "cell_id": "0dd79a99-ef62-4ee1-807e-022e7b5eea96",
    "colab_type": "text",
    "id": "qcoyETmQNsXr"
   },
   "source": [
    "**Year has a strong negetive correlation with perc**\n"
   ]
  },
  {
   "cell_type": "code",
   "execution_count": 22,
   "metadata": {
    "ExecuteTime": {
     "end_time": "2020-09-20T19:35:03.978026Z",
     "start_time": "2020-09-20T19:35:03.657405Z"
    }
   },
   "outputs": [
    {
     "data": {
      "image/png": "[encoded data removed]",
      "text/plain": [
       "<Figure size 432x288 with 1 Axes>"
      ]
     },
     "metadata": {},
     "output_type": "display_data"
    }
   ],
   "source": [
    "# your code here\n",
    "plt.scatter(cars_df.Kms_Driven, cars_df.perc)\n",
    "plt.xlabel('Kms_Driven')\n",
    "plt.ylabel('perc')\n",
    "plt.title('Perc VS Kms_Driven Relationship');"
   ]
  },
  {
   "cell_type": "markdown",
   "metadata": {},
   "source": [
    "**Kms_Driven has a positive correlation with perc**"
   ]
  },
  {
   "cell_type": "code",
   "execution_count": 23,
   "metadata": {
    "ExecuteTime": {
     "end_time": "2020-09-20T19:35:04.322276Z",
     "start_time": "2020-09-20T19:35:03.982063Z"
    },
    "cell_id": "6496ff05-dd2a-4e36-89cf-b4121dde5932",
    "colab": {
     "base_uri": "https://localhost:8080/",
     "height": 340
    },
    "colab_type": "code",
    "id": "DqerINcqNoWz",
    "outputId": "46052ff1-2aff-4fdd-d8b0-10db87fc93cb"
   },
   "outputs": [
    {
     "data": {
      "image/png": "[encoded data removed]",
      "text/plain": [
       "<Figure size 432x288 with 1 Axes>"
      ]
     },
     "metadata": {},
     "output_type": "display_data"
    }
   ],
   "source": [
    "# your code here\n",
    "plt.scatter(cars_df.MRP, cars_df.perc)\n",
    "plt.xlabel('MRP')\n",
    "plt.ylabel('perc')\n",
    "plt.title('Perc VS MRP Relationship');"
   ]
  },
  {
   "cell_type": "markdown",
   "metadata": {
    "cell_id": "aeb964bc-a336-4b26-abd9-b0d9bfa35d9c",
    "colab_type": "text",
    "id": "10QmiMT_PGdg"
   },
   "source": [
    "**MRP has a weak correlation with perc**\n"
   ]
  },
  {
   "cell_type": "code",
   "execution_count": 24,
   "metadata": {
    "ExecuteTime": {
     "end_time": "2020-09-20T19:35:04.705737Z",
     "start_time": "2020-09-20T19:35:04.322276Z"
    },
    "cell_id": "d8807a62-ed56-423d-8c50-7accfeddea77",
    "colab": {
     "base_uri": "https://localhost:8080/",
     "height": 340
    },
    "colab_type": "code",
    "id": "pjoz78deMfTH",
    "outputId": "93da93b4-177d-4b33-ca5f-95a424c9dcad"
   },
   "outputs": [
    {
     "data": {
      "image/png": "[encoded data removed]",
      "text/plain": [
       "<Figure size 432x288 with 2 Axes>"
      ]
     },
     "metadata": {},
     "output_type": "display_data"
    }
   ],
   "source": [
    "sns.heatmap(cars_df.corr(), annot=True);\n"
   ]
  },
  {
   "cell_type": "markdown",
   "metadata": {
    "cell_id": "1697f1b1-242d-4c97-a790-2f5cd9a63e75",
    "colab_type": "text",
    "id": "rA-9uW2yRV1g"
   },
   "source": [
    "**It's seems like Year is the best predictor to predict perc**"
   ]
  },
  {
   "cell_type": "markdown",
   "metadata": {
    "cell_id": "eaed1594-de29-4e01-aae5-b6a7f76f6303",
    "colab_type": "text",
    "id": "kCMMuQiS652F",
    "tags": []
   },
   "source": [
    "### 4.3"
   ]
  },
  {
   "cell_type": "code",
   "execution_count": 25,
   "metadata": {
    "ExecuteTime": {
     "end_time": "2020-09-20T19:35:04.721676Z",
     "start_time": "2020-09-20T19:35:04.705737Z"
    },
    "cell_id": "96133e0f-2d4e-40c6-8c6f-458d723e4d15",
    "colab": {
     "base_uri": "https://localhost:8080/",
     "height": 357
    },
    "colab_type": "code",
    "id": "1IvfW90qYplq",
    "outputId": "08f3f94e-3083-439b-8f29-a61318eabfb7"
   },
   "outputs": [],
   "source": [
    "#your code here"
   ]
  },
  {
   "cell_type": "markdown",
   "metadata": {
    "cell_id": "eaed1594-de29-4e01-aae5-b6a7f76f6303",
    "colab_type": "text",
    "id": "kCMMuQiS652F",
    "tags": []
   },
   "source": [
    "### 4.4"
   ]
  },
  {
   "cell_type": "code",
   "execution_count": 26,
   "metadata": {
    "ExecuteTime": {
     "end_time": "2020-09-20T19:35:04.738769Z",
     "start_time": "2020-09-20T19:35:04.725630Z"
    },
    "cell_id": "1d0be5ee-3e1f-4fd7-978f-ac9d4f6a688a",
    "colab": {
     "base_uri": "https://localhost:8080/",
     "height": 303
    },
    "colab_type": "code",
    "id": "501EdSa8653e",
    "outputId": "7c7cb3c8-4901-434b-caa5-c3a76d58ae58"
   },
   "outputs": [],
   "source": [
    "# Linear Regression using Year as the reponse variable\n",
    "# your code here\n"
   ]
  },
  {
   "cell_type": "code",
   "execution_count": 27,
   "metadata": {
    "ExecuteTime": {
     "end_time": "2020-09-20T19:35:04.753947Z",
     "start_time": "2020-09-20T19:35:04.738769Z"
    },
    "cell_id": "b74d97f8-90a5-466f-a9c4-aadbe7f7137b",
    "colab": {
     "base_uri": "https://localhost:8080/",
     "height": 303
    },
    "colab_type": "code",
    "id": "Kfd3S6d2653f",
    "outputId": "61685240-994e-4e9a-8ab2-d9ea1f03eb14"
   },
   "outputs": [],
   "source": [
    "# Linear Regression using MRP as the reponse variable\n",
    "# your code here\n"
   ]
  },
  {
   "cell_type": "code",
   "execution_count": 28,
   "metadata": {
    "ExecuteTime": {
     "end_time": "2020-09-20T19:35:04.769426Z",
     "start_time": "2020-09-20T19:35:04.756900Z"
    },
    "cell_id": "bd212f99-a39d-4e1d-b7fa-9d325d23fe18",
    "colab": {
     "base_uri": "https://localhost:8080/",
     "height": 303
    },
    "colab_type": "code",
    "id": "MzPk_zMSXudP",
    "outputId": "1a3b8289-e9c4-4a59-a1ff-aa956ba538da"
   },
   "outputs": [],
   "source": [
    "# Linear Regression using KMs Driven as the reponse variable\n",
    "# your code here\n"
   ]
  },
  {
   "cell_type": "markdown",
   "metadata": {
    "cell_id": "aea7be7c-1f0b-4628-a052-fedb2d08372c",
    "colab_type": "text",
    "id": "92yFAaq8YE5K"
   },
   "source": [
    "**Your answer here**\n"
   ]
  },
  {
   "cell_type": "markdown",
   "metadata": {
    "cell_id": "eaed1594-de29-4e01-aae5-b6a7f76f6303",
    "colab_type": "text",
    "id": "kCMMuQiS652F",
    "tags": []
   },
   "source": [
    "### 4.5"
   ]
  },
  {
   "cell_type": "code",
   "execution_count": 29,
   "metadata": {
    "ExecuteTime": {
     "end_time": "2020-09-20T19:35:04.784929Z",
     "start_time": "2020-09-20T19:35:04.769426Z"
    },
    "cell_id": "31f9bc58-94e7-4d38-9f07-438c1d0a8106"
   },
   "outputs": [],
   "source": [
    "#Linear Regression using Year as the reponse variable\n",
    "# your code here\n"
   ]
  },
  {
   "cell_type": "markdown",
   "metadata": {
    "cell_id": "31f9bc58-94e7-4d38-9f07-438c1d0a8106"
   },
   "source": [
    "**Your answer here**\n"
   ]
  },
  {
   "cell_type": "markdown",
   "metadata": {
    "cell_id": "da342829-572c-4a6b-bb45-a2d2f3d0468e"
   },
   "source": [
    "<div class=\"alert alert-block alert-danger\" style=\"color:black;background-color:#F6E6E2\">\n",
    "<h2 style=\"color:black;background-color:#F6E6E2\"> Part Β :  Multi-Linear Regression [25 points total] </h2><br />\n",
    "\n",
    "\n",
    "### Problem Description: \n",
    "\n",
    "Analysis of publically available profiles on simplymarry.com to learn more about the biases, income disparity & other interesting trends in India. \n",
    "\n",
    "#### Dataset\n",
    "\n",
    "The dataset was aggregated from the SimplyMarry.com site.\n",
    "\n",
    "All the attributes refer to traits and preferences of the person looking for a spouse. \n",
    "\n",
    "- **age** - Age of person looking for a spouse\n",
    "- **gender** - Female:0, Male:1 \n",
    "- **height** - Height in inches\n",
    "- **bmi** - BMI calculated based on height and weight\n",
    "- **eating** - {'Doesn't Matter':0, 'Jain': 1, 'Vegetarian': 2, 'Vegetarian With Eggs': 3, 'Non Vegetarian': 4}\n",
    "- **family_type** - ('Doesn't Matter': 0, 'Others':3, 'Nuclear': 1, 'Joint family both parents': 2, 'Joint family only mother':2, 'Joint family father mother and brothers sisters':2, 'Joint family single parent brothers and or sisters':2, 'Joint family only father': 2)\n",
    "- **status** - If social status matters to the person looking for a spouse: {'Doesn't Matter': 0, 'Middle Class': 1, 'Upper Middle Class': 2, 'High Class': 3, 'Rich / Affluent': 4}\n",
    "- **manglik** - {'No': 0, 'Yes': 1, 'Do Not Know': 2} ([More on this feature](https://en.wikipedia.org/wiki/Mangala_Dosha))\n",
    "- **drinking** - {'Doesn't Matter':0, 'No': 1, 'Occasionally': 2, 'Yes': 3}\n",
    "- **complexion** - {'Very Fair ': 1, 'Fair ': 2, 'Wheatish Medium ': 4, 'Wheatish ':3, 'Dark':5}\n",
    "- **body** - {'Slim': 1, 'Average': 2, 'Heavy': 3, 'Athletic': 4}\n",
    "- **education** - {'High School':0, 'Some college':1,'Undergrad':2, 'Grad':3, 'Doctorate':4}\n",
    "- **city** - ('International': 1, 'Mumbai': 2, 'Delhi':3, 'Kolkata':4,'Bengaluru':5, 'Chennai':6, 'Hyderabad':7, 'Pune':8, 'Ahmedabad':9,'Surat':10, 'Vishakapatnam':11, 'Others':12)\n",
    "- **income** - {Annual income in dollars}\n",
    "\n",
    "*source: Harvard IACS*\n",
    "\n",
    "#### Sensitive attributes in the data\n",
    "\n",
    "It is thought that users are mostly sincere when stating their preferences about their desired partner, and are unlikely to hide any deeply held cultural or sociological biases in order to be perceived as being politically correct. This might take care of the problem with surveys where responses touching on social norms are notorious for self-report bias.\n",
    "\n",
    "This is a dataset designed to make you think about issues of bias and social issues in datasets. We hope that you will be able to derive insights into the above mentioned sociological biases. The data could potentially provide answers to interesting questions with associated policy ramifications, such as do these biases reduce among more educated users, or more urban users?  "
   ]
  },
  {
   "cell_type": "code",
   "execution_count": 30,
   "metadata": {
    "ExecuteTime": {
     "end_time": "2020-09-20T19:35:04.815694Z",
     "start_time": "2020-09-20T19:35:04.788934Z"
    },
    "cell_id": "f3e5ae9a-0fd7-43d7-902f-9927a56e50ff"
   },
   "outputs": [],
   "source": [
    "# Read the file named \"Income_prediction.csv\"\n",
    "\n",
    "df = pd.read_csv('data/Income_prediction.csv')"
   ]
  },
  {
   "cell_type": "markdown",
   "metadata": {
    "cell_id": "c919f665-f1a2-46dd-955c-4cc11bc3ec5d"
   },
   "source": [
    "<div class=\"alert alert-block alert-danger\" style=\"color:black;background-color:#F6E6E2\">\n",
    "\n",
    "<b> Question 5:   Using Data science to learn more about Indian society  [15 points total]</b>\n",
    "<br />\n",
    "First we are going to use simple analytics to learn more about Indian society with the help of this dataset.\n",
    "\n",
    "The idea is to use basic modeling based on averages & sample distributions to uncover suspected biases, such as gender, skin tone & manglik status.\n",
    "<br /><br />\n",
    "Answer the below questions using plots & simple statistics\n",
    "<br /><br />\n",
    "**5.1** [2pt] Is there a gender-bias for income of participants?\n",
    "<br /><br />\n",
    "**5.2** [2pt] Is there a correlation between income and skin complexion?\n",
    "<br /><br />\n",
    "**5.3** [2pt] Is there a discernable trend in the incomes of participants from different regions/cities?\n",
    "<br /><br />\n",
    "**5.4** [1pt] Is there a clear trend between BMI and the income?\n",
    "<br /><br />\n",
    "**5.5** [2pt] Does the level of education show a clear trend with income?\n",
    "<br /><br />\n",
    "**5.6** [2pt] Do any of the numeric attributes show a clear non-linear dependence with the amount of income?\n",
    "<br /><br />\n",
    "**5.7** [2pt] Is the income lower or high for those living in 'nuclear' families?\n",
    "<br /><br />\n",
    "**5.8** [2pt] Is being 'Manglik' negatively affect the income of participants?"
   ]
  },
  {
   "cell_type": "markdown",
   "metadata": {
    "cell_id": "a7be4db8-2c8f-437e-b016-659c755a08f1",
    "colab_type": "text",
    "id": "KNnTUgmwkWs5"
   },
   "source": [
    "### Solutions"
   ]
  },
  {
   "cell_type": "markdown",
   "metadata": {
    "cell_id": "eaed1594-de29-4e01-aae5-b6a7f76f6303",
    "colab_type": "text",
    "id": "kCMMuQiS652F",
    "tags": []
   },
   "source": [
    "### 5.1"
   ]
  },
  {
   "cell_type": "code",
   "execution_count": 31,
   "metadata": {
    "ExecuteTime": {
     "end_time": "2020-09-20T19:35:04.849916Z",
     "start_time": "2020-09-20T19:35:04.819662Z"
    }
   },
   "outputs": [
    {
     "data": {
      "text/html": [
       "<div>\n",
       "<style scoped>\n",
       "    .dataframe tbody tr th:only-of-type {\n",
       "        vertical-align: middle;\n",
       "    }\n",
       "\n",
       "    .dataframe tbody tr th {\n",
       "        vertical-align: top;\n",
       "    }\n",
       "\n",
       "    .dataframe thead th {\n",
       "        text-align: right;\n",
       "    }\n",
       "</style>\n",
       "<table border=\"1\" class=\"dataframe\">\n",
       "  <thead>\n",
       "    <tr style=\"text-align: right;\">\n",
       "      <th></th>\n",
       "      <th>age</th>\n",
       "      <th>gender</th>\n",
       "      <th>height</th>\n",
       "      <th>kgs</th>\n",
       "      <th>bmi</th>\n",
       "      <th>eating</th>\n",
       "      <th>status</th>\n",
       "      <th>marital_status</th>\n",
       "      <th>family_type</th>\n",
       "      <th>manglik</th>\n",
       "      <th>horoscope</th>\n",
       "      <th>drinking</th>\n",
       "      <th>smoking</th>\n",
       "      <th>values</th>\n",
       "      <th>complexion</th>\n",
       "      <th>body</th>\n",
       "      <th>caste_imp</th>\n",
       "      <th>employed</th>\n",
       "      <th>living</th>\n",
       "      <th>education</th>\n",
       "      <th>income</th>\n",
       "      <th>city</th>\n",
       "    </tr>\n",
       "  </thead>\n",
       "  <tbody>\n",
       "    <tr>\n",
       "      <th>0</th>\n",
       "      <td>25</td>\n",
       "      <td>1</td>\n",
       "      <td>62</td>\n",
       "      <td>50</td>\n",
       "      <td>20.161</td>\n",
       "      <td>4</td>\n",
       "      <td>1</td>\n",
       "      <td>1</td>\n",
       "      <td>2</td>\n",
       "      <td>0</td>\n",
       "      <td>1</td>\n",
       "      <td>1</td>\n",
       "      <td>1</td>\n",
       "      <td>2</td>\n",
       "      <td>2</td>\n",
       "      <td>1</td>\n",
       "      <td>1</td>\n",
       "      <td>4</td>\n",
       "      <td>1</td>\n",
       "      <td>0</td>\n",
       "      <td>2500</td>\n",
       "      <td>12</td>\n",
       "    </tr>\n",
       "    <tr>\n",
       "      <th>1</th>\n",
       "      <td>28</td>\n",
       "      <td>0</td>\n",
       "      <td>66</td>\n",
       "      <td>62</td>\n",
       "      <td>22.062</td>\n",
       "      <td>2</td>\n",
       "      <td>2</td>\n",
       "      <td>1</td>\n",
       "      <td>2</td>\n",
       "      <td>2</td>\n",
       "      <td>1</td>\n",
       "      <td>1</td>\n",
       "      <td>1</td>\n",
       "      <td>2</td>\n",
       "      <td>2</td>\n",
       "      <td>2</td>\n",
       "      <td>1</td>\n",
       "      <td>4</td>\n",
       "      <td>1</td>\n",
       "      <td>2</td>\n",
       "      <td>7500</td>\n",
       "      <td>8</td>\n",
       "    </tr>\n",
       "    <tr>\n",
       "      <th>2</th>\n",
       "      <td>30</td>\n",
       "      <td>1</td>\n",
       "      <td>69</td>\n",
       "      <td>72</td>\n",
       "      <td>23.441</td>\n",
       "      <td>2</td>\n",
       "      <td>1</td>\n",
       "      <td>1</td>\n",
       "      <td>1</td>\n",
       "      <td>1</td>\n",
       "      <td>1</td>\n",
       "      <td>1</td>\n",
       "      <td>1</td>\n",
       "      <td>5</td>\n",
       "      <td>2</td>\n",
       "      <td>1</td>\n",
       "      <td>0</td>\n",
       "      <td>5</td>\n",
       "      <td>0</td>\n",
       "      <td>2</td>\n",
       "      <td>7500</td>\n",
       "      <td>8</td>\n",
       "    </tr>\n",
       "    <tr>\n",
       "      <th>3</th>\n",
       "      <td>34</td>\n",
       "      <td>0</td>\n",
       "      <td>63</td>\n",
       "      <td>58</td>\n",
       "      <td>22.651</td>\n",
       "      <td>4</td>\n",
       "      <td>1</td>\n",
       "      <td>4</td>\n",
       "      <td>1</td>\n",
       "      <td>0</td>\n",
       "      <td>1</td>\n",
       "      <td>1</td>\n",
       "      <td>1</td>\n",
       "      <td>2</td>\n",
       "      <td>2</td>\n",
       "      <td>2</td>\n",
       "      <td>0</td>\n",
       "      <td>4</td>\n",
       "      <td>1</td>\n",
       "      <td>2</td>\n",
       "      <td>4167</td>\n",
       "      <td>10</td>\n",
       "    </tr>\n",
       "    <tr>\n",
       "      <th>4</th>\n",
       "      <td>30</td>\n",
       "      <td>0</td>\n",
       "      <td>62</td>\n",
       "      <td>72</td>\n",
       "      <td>29.032</td>\n",
       "      <td>2</td>\n",
       "      <td>2</td>\n",
       "      <td>1</td>\n",
       "      <td>1</td>\n",
       "      <td>0</td>\n",
       "      <td>1</td>\n",
       "      <td>1</td>\n",
       "      <td>1</td>\n",
       "      <td>3</td>\n",
       "      <td>1</td>\n",
       "      <td>2</td>\n",
       "      <td>0</td>\n",
       "      <td>5</td>\n",
       "      <td>1</td>\n",
       "      <td>3</td>\n",
       "      <td>20833</td>\n",
       "      <td>6</td>\n",
       "    </tr>\n",
       "  </tbody>\n",
       "</table>\n",
       "</div>"
      ],
      "text/plain": [
       "   age  gender  height  kgs     bmi  eating  status  marital_status  \\\n",
       "0   25       1      62   50  20.161       4       1               1   \n",
       "1   28       0      66   62  22.062       2       2               1   \n",
       "2   30       1      69   72  23.441       2       1               1   \n",
       "3   34       0      63   58  22.651       4       1               4   \n",
       "4   30       0      62   72  29.032       2       2               1   \n",
       "\n",
       "   family_type  manglik  horoscope  drinking  smoking  values  complexion  \\\n",
       "0            2        0          1         1        1       2           2   \n",
       "1            2        2          1         1        1       2           2   \n",
       "2            1        1          1         1        1       5           2   \n",
       "3            1        0          1         1        1       2           2   \n",
       "4            1        0          1         1        1       3           1   \n",
       "\n",
       "   body  caste_imp  employed  living  education  income  city  \n",
       "0     1          1         4       1          0    2500    12  \n",
       "1     2          1         4       1          2    7500     8  \n",
       "2     1          0         5       0          2    7500     8  \n",
       "3     2          0         4       1          2    4167    10  \n",
       "4     2          0         5       1          3   20833     6  "
      ]
     },
     "execution_count": 31,
     "metadata": {},
     "output_type": "execute_result"
    }
   ],
   "source": [
    "df.head()"
   ]
  },
  {
   "cell_type": "code",
   "execution_count": 32,
   "metadata": {
    "ExecuteTime": {
     "end_time": "2020-09-20T19:35:05.276912Z",
     "start_time": "2020-09-20T19:35:04.849916Z"
    },
    "cell_id": "b1bdb8f7-1d93-4088-b16f-2b3740de942e"
   },
   "outputs": [
    {
     "name": "stdout",
     "output_type": "stream",
     "text": [
      "Total number of female participants: 1561\n",
      "Min income (Female): 417\n",
      "Max income (Female): 250000\n",
      "Average income (Female): 8450.57527226137\n",
      "\n",
      "Total number of male participants: 5852\n",
      "Min income (Male): 417\n",
      "Max income (Male): 250000\n",
      "Average income (Male): 13849.099282296651\n",
      "\n"
     ]
    },
    {
     "data": {
      "image/png": "[encoded data removed]",
      "text/plain": [
       "<Figure size 432x288 with 1 Axes>"
      ]
     },
     "metadata": {},
     "output_type": "display_data"
    }
   ],
   "source": [
    "# gender - Female:0, Male:1\n",
    "# Let's check the counts males and females \n",
    "\n",
    "females_income = df[df.gender == 0].income\n",
    "males_income = df[df.gender == 1].income\n",
    "print(f\"Total number of female participants: {df.gender.value_counts()[0]}\")\n",
    "print(f\"Min income (Female): {min(females_income)}\")\n",
    "print(f\"Max income (Female): {max(females_income)}\")\n",
    "print(f\"Average income (Female): {np.mean(females_income)}\\n\")\n",
    "\n",
    "print(f\"Total number of male participants: {df.gender.value_counts()[1]}\")\n",
    "print(f\"Min income (Male): {min(males_income)}\")\n",
    "print(f\"Max income (Male): {max(males_income)}\")\n",
    "print(f\"Average income (Male): {np.mean(males_income)}\\n\")\n",
    "plt.scatter(df.gender, df.income);\n",
    "\n"
   ]
  },
  {
   "cell_type": "markdown",
   "metadata": {
    "ExecuteTime": {
     "end_time": "2020-09-20T16:50:37.892845Z",
     "start_time": "2020-09-20T16:50:37.882845Z"
    }
   },
   "source": [
    "By looking at the above details, we can say that there is some gender bias for income of participants. Most of the men have higher income than the women."
   ]
  },
  {
   "cell_type": "markdown",
   "metadata": {
    "cell_id": "eaed1594-de29-4e01-aae5-b6a7f76f6303",
    "colab_type": "text",
    "id": "kCMMuQiS652F",
    "tags": []
   },
   "source": [
    "### 5.2"
   ]
  },
  {
   "cell_type": "code",
   "execution_count": 33,
   "metadata": {
    "ExecuteTime": {
     "end_time": "2020-09-20T19:35:05.308185Z",
     "start_time": "2020-09-20T19:35:05.276912Z"
    }
   },
   "outputs": [
    {
     "data": {
      "text/html": [
       "<div>\n",
       "<style scoped>\n",
       "    .dataframe tbody tr th:only-of-type {\n",
       "        vertical-align: middle;\n",
       "    }\n",
       "\n",
       "    .dataframe tbody tr th {\n",
       "        vertical-align: top;\n",
       "    }\n",
       "\n",
       "    .dataframe thead th {\n",
       "        text-align: right;\n",
       "    }\n",
       "</style>\n",
       "<table border=\"1\" class=\"dataframe\">\n",
       "  <thead>\n",
       "    <tr style=\"text-align: right;\">\n",
       "      <th></th>\n",
       "      <th>complexion</th>\n",
       "      <th>income</th>\n",
       "    </tr>\n",
       "  </thead>\n",
       "  <tbody>\n",
       "    <tr>\n",
       "      <th>complexion</th>\n",
       "      <td>1.000</td>\n",
       "      <td>-0.086</td>\n",
       "    </tr>\n",
       "    <tr>\n",
       "      <th>income</th>\n",
       "      <td>-0.086</td>\n",
       "      <td>1.000</td>\n",
       "    </tr>\n",
       "  </tbody>\n",
       "</table>\n",
       "</div>"
      ],
      "text/plain": [
       "            complexion  income\n",
       "complexion       1.000  -0.086\n",
       "income          -0.086   1.000"
      ]
     },
     "execution_count": 33,
     "metadata": {},
     "output_type": "execute_result"
    }
   ],
   "source": [
    "df[['complexion', 'income']].corr()"
   ]
  },
  {
   "cell_type": "code",
   "execution_count": 34,
   "metadata": {
    "ExecuteTime": {
     "end_time": "2020-09-20T19:35:05.728439Z",
     "start_time": "2020-09-20T19:35:05.311138Z"
    },
    "cell_id": "8a2496d6-c369-4db9-a3b4-543357b510f3",
    "scrolled": true
   },
   "outputs": [
    {
     "data": {
      "image/png": "[encoded data removed]",
      "text/plain": [
       "<Figure size 432x288 with 1 Axes>"
      ]
     },
     "metadata": {},
     "output_type": "display_data"
    }
   ],
   "source": [
    "# Is there a correlation between income and skin complexion?\n",
    "# complexion - {'Very Fair ': 1, 'Fair ': 2, 'Wheatish Medium ': 4, 'Wheatish ':3, 'Dark':5\n",
    "plt.scatter(df.complexion, df.income);"
   ]
  },
  {
   "cell_type": "markdown",
   "metadata": {
    "ExecuteTime": {
     "end_time": "2020-09-20T17:06:57.212752Z",
     "start_time": "2020-09-20T17:06:57.200721Z"
    }
   },
   "source": [
    "From the above observation we can say that complexion is negatively correlated with income. Income decreases when we move from 'Very Fair' to 'Dark'."
   ]
  },
  {
   "cell_type": "markdown",
   "metadata": {
    "cell_id": "eaed1594-de29-4e01-aae5-b6a7f76f6303",
    "colab_type": "text",
    "id": "kCMMuQiS652F",
    "tags": []
   },
   "source": [
    "### 5.3"
   ]
  },
  {
   "cell_type": "code",
   "execution_count": 35,
   "metadata": {
    "ExecuteTime": {
     "end_time": "2020-09-20T19:35:20.749000Z",
     "start_time": "2020-09-20T19:35:05.728439Z"
    },
    "cell_id": "1973e45d-b713-47ae-91ad-788442c83382"
   },
   "outputs": [
    {
     "data": {
      "image/png": "[encoded data removed]",
      "text/plain": [
       "<Figure size 432x288 with 1 Axes>"
      ]
     },
     "metadata": {},
     "output_type": "display_data"
    }
   ],
   "source": [
    "#  Is there a discernable trend in the incomes of participants from different regions/cities?\n",
    "# city - ('International': 1, 'Mumbai': 2, 'Delhi':3, 'Kolkata':4,'Bengaluru':5, 'Chennai':6, \n",
    "# 'Hyderabad':7, 'Pune':8, 'Ahmedabad':9,'Surat':10, 'Vishakapatnam':11, 'Others':12)\n",
    "plt.bar(df.city, df.income);"
   ]
  },
  {
   "cell_type": "markdown",
   "metadata": {
    "ExecuteTime": {
     "end_time": "2020-09-20T17:16:34.130580Z",
     "start_time": "2020-09-20T17:16:34.098732Z"
    }
   },
   "source": [
    "Income of people from cities like Mumbai and Delhi are higher."
   ]
  },
  {
   "cell_type": "markdown",
   "metadata": {
    "cell_id": "eaed1594-de29-4e01-aae5-b6a7f76f6303",
    "colab_type": "text",
    "id": "kCMMuQiS652F",
    "tags": []
   },
   "source": [
    "### 5.4"
   ]
  },
  {
   "cell_type": "code",
   "execution_count": 36,
   "metadata": {
    "ExecuteTime": {
     "end_time": "2020-09-20T19:35:21.179665Z",
     "start_time": "2020-09-20T19:35:20.753276Z"
    },
    "jupyter": {
     "outputs_hidden": true
    }
   },
   "outputs": [
    {
     "data": {
      "image/png": "[encoded data removed]",
      "text/plain": [
       "<Figure size 720x432 with 1 Axes>"
      ]
     },
     "metadata": {},
     "output_type": "display_data"
    }
   ],
   "source": [
    "# Is there a clear trend between BMI and the income?\n",
    "plt.figure(figsize=(10, 6))\n",
    "plt.scatter(df.bmi, df.income);"
   ]
  },
  {
   "cell_type": "markdown",
   "metadata": {},
   "source": [
    "**No**"
   ]
  },
  {
   "cell_type": "markdown",
   "metadata": {
    "cell_id": "eaed1594-de29-4e01-aae5-b6a7f76f6303",
    "colab_type": "text",
    "id": "kCMMuQiS652F",
    "tags": []
   },
   "source": [
    "### 5.5"
   ]
  },
  {
   "cell_type": "code",
   "execution_count": 37,
   "metadata": {
    "ExecuteTime": {
     "end_time": "2020-09-20T19:35:21.574833Z",
     "start_time": "2020-09-20T19:35:21.179665Z"
    },
    "cell_id": "94570040-6ae8-4154-ab8a-ba53b0544fc5"
   },
   "outputs": [
    {
     "data": {
      "image/png": "[encoded data removed]",
      "text/plain": [
       "<Figure size 432x288 with 1 Axes>"
      ]
     },
     "metadata": {},
     "output_type": "display_data"
    }
   ],
   "source": [
    "# Does the level of education show a clear trend with income?\n",
    "# education - {'High School':0, 'Some college':1,'Undergrad':2, 'Grad':3, 'Doctorate':4}\n",
    "\n",
    "plt.scatter(df.education, df.income);"
   ]
  },
  {
   "cell_type": "markdown",
   "metadata": {},
   "source": [
    "**High School and Some College level of education highest income are capped at 100k**"
   ]
  },
  {
   "cell_type": "code",
   "execution_count": 38,
   "metadata": {
    "ExecuteTime": {
     "end_time": "2020-09-20T19:35:21.606947Z",
     "start_time": "2020-09-20T19:35:21.574833Z"
    }
   },
   "outputs": [
    {
     "data": {
      "text/html": [
       "<div>\n",
       "<style scoped>\n",
       "    .dataframe tbody tr th:only-of-type {\n",
       "        vertical-align: middle;\n",
       "    }\n",
       "\n",
       "    .dataframe tbody tr th {\n",
       "        vertical-align: top;\n",
       "    }\n",
       "\n",
       "    .dataframe thead th {\n",
       "        text-align: right;\n",
       "    }\n",
       "</style>\n",
       "<table border=\"1\" class=\"dataframe\">\n",
       "  <thead>\n",
       "    <tr style=\"text-align: right;\">\n",
       "      <th></th>\n",
       "      <th>age</th>\n",
       "      <th>gender</th>\n",
       "      <th>height</th>\n",
       "      <th>kgs</th>\n",
       "      <th>bmi</th>\n",
       "      <th>eating</th>\n",
       "      <th>status</th>\n",
       "      <th>marital_status</th>\n",
       "      <th>family_type</th>\n",
       "      <th>manglik</th>\n",
       "      <th>horoscope</th>\n",
       "      <th>drinking</th>\n",
       "      <th>smoking</th>\n",
       "      <th>values</th>\n",
       "      <th>complexion</th>\n",
       "      <th>body</th>\n",
       "      <th>caste_imp</th>\n",
       "      <th>employed</th>\n",
       "      <th>living</th>\n",
       "      <th>education</th>\n",
       "      <th>income</th>\n",
       "      <th>city</th>\n",
       "    </tr>\n",
       "  </thead>\n",
       "  <tbody>\n",
       "    <tr>\n",
       "      <th>0</th>\n",
       "      <td>25</td>\n",
       "      <td>1</td>\n",
       "      <td>62</td>\n",
       "      <td>50</td>\n",
       "      <td>20.161</td>\n",
       "      <td>4</td>\n",
       "      <td>1</td>\n",
       "      <td>1</td>\n",
       "      <td>2</td>\n",
       "      <td>0</td>\n",
       "      <td>1</td>\n",
       "      <td>1</td>\n",
       "      <td>1</td>\n",
       "      <td>2</td>\n",
       "      <td>2</td>\n",
       "      <td>1</td>\n",
       "      <td>1</td>\n",
       "      <td>4</td>\n",
       "      <td>1</td>\n",
       "      <td>0</td>\n",
       "      <td>2500</td>\n",
       "      <td>12</td>\n",
       "    </tr>\n",
       "    <tr>\n",
       "      <th>1</th>\n",
       "      <td>28</td>\n",
       "      <td>0</td>\n",
       "      <td>66</td>\n",
       "      <td>62</td>\n",
       "      <td>22.062</td>\n",
       "      <td>2</td>\n",
       "      <td>2</td>\n",
       "      <td>1</td>\n",
       "      <td>2</td>\n",
       "      <td>2</td>\n",
       "      <td>1</td>\n",
       "      <td>1</td>\n",
       "      <td>1</td>\n",
       "      <td>2</td>\n",
       "      <td>2</td>\n",
       "      <td>2</td>\n",
       "      <td>1</td>\n",
       "      <td>4</td>\n",
       "      <td>1</td>\n",
       "      <td>2</td>\n",
       "      <td>7500</td>\n",
       "      <td>8</td>\n",
       "    </tr>\n",
       "    <tr>\n",
       "      <th>2</th>\n",
       "      <td>30</td>\n",
       "      <td>1</td>\n",
       "      <td>69</td>\n",
       "      <td>72</td>\n",
       "      <td>23.441</td>\n",
       "      <td>2</td>\n",
       "      <td>1</td>\n",
       "      <td>1</td>\n",
       "      <td>1</td>\n",
       "      <td>1</td>\n",
       "      <td>1</td>\n",
       "      <td>1</td>\n",
       "      <td>1</td>\n",
       "      <td>5</td>\n",
       "      <td>2</td>\n",
       "      <td>1</td>\n",
       "      <td>0</td>\n",
       "      <td>5</td>\n",
       "      <td>0</td>\n",
       "      <td>2</td>\n",
       "      <td>7500</td>\n",
       "      <td>8</td>\n",
       "    </tr>\n",
       "    <tr>\n",
       "      <th>3</th>\n",
       "      <td>34</td>\n",
       "      <td>0</td>\n",
       "      <td>63</td>\n",
       "      <td>58</td>\n",
       "      <td>22.651</td>\n",
       "      <td>4</td>\n",
       "      <td>1</td>\n",
       "      <td>4</td>\n",
       "      <td>1</td>\n",
       "      <td>0</td>\n",
       "      <td>1</td>\n",
       "      <td>1</td>\n",
       "      <td>1</td>\n",
       "      <td>2</td>\n",
       "      <td>2</td>\n",
       "      <td>2</td>\n",
       "      <td>0</td>\n",
       "      <td>4</td>\n",
       "      <td>1</td>\n",
       "      <td>2</td>\n",
       "      <td>4167</td>\n",
       "      <td>10</td>\n",
       "    </tr>\n",
       "    <tr>\n",
       "      <th>4</th>\n",
       "      <td>30</td>\n",
       "      <td>0</td>\n",
       "      <td>62</td>\n",
       "      <td>72</td>\n",
       "      <td>29.032</td>\n",
       "      <td>2</td>\n",
       "      <td>2</td>\n",
       "      <td>1</td>\n",
       "      <td>1</td>\n",
       "      <td>0</td>\n",
       "      <td>1</td>\n",
       "      <td>1</td>\n",
       "      <td>1</td>\n",
       "      <td>3</td>\n",
       "      <td>1</td>\n",
       "      <td>2</td>\n",
       "      <td>0</td>\n",
       "      <td>5</td>\n",
       "      <td>1</td>\n",
       "      <td>3</td>\n",
       "      <td>20833</td>\n",
       "      <td>6</td>\n",
       "    </tr>\n",
       "  </tbody>\n",
       "</table>\n",
       "</div>"
      ],
      "text/plain": [
       "   age  gender  height  kgs     bmi  eating  status  marital_status  \\\n",
       "0   25       1      62   50  20.161       4       1               1   \n",
       "1   28       0      66   62  22.062       2       2               1   \n",
       "2   30       1      69   72  23.441       2       1               1   \n",
       "3   34       0      63   58  22.651       4       1               4   \n",
       "4   30       0      62   72  29.032       2       2               1   \n",
       "\n",
       "   family_type  manglik  horoscope  drinking  smoking  values  complexion  \\\n",
       "0            2        0          1         1        1       2           2   \n",
       "1            2        2          1         1        1       2           2   \n",
       "2            1        1          1         1        1       5           2   \n",
       "3            1        0          1         1        1       2           2   \n",
       "4            1        0          1         1        1       3           1   \n",
       "\n",
       "   body  caste_imp  employed  living  education  income  city  \n",
       "0     1          1         4       1          0    2500    12  \n",
       "1     2          1         4       1          2    7500     8  \n",
       "2     1          0         5       0          2    7500     8  \n",
       "3     2          0         4       1          2    4167    10  \n",
       "4     2          0         5       1          3   20833     6  "
      ]
     },
     "execution_count": 38,
     "metadata": {},
     "output_type": "execute_result"
    }
   ],
   "source": [
    "df.head()"
   ]
  },
  {
   "cell_type": "markdown",
   "metadata": {
    "cell_id": "eaed1594-de29-4e01-aae5-b6a7f76f6303",
    "colab_type": "text",
    "id": "kCMMuQiS652F",
    "tags": []
   },
   "source": [
    "### 5.6"
   ]
  },
  {
   "cell_type": "code",
   "execution_count": 39,
   "metadata": {
    "ExecuteTime": {
     "end_time": "2020-09-20T19:35:21.984447Z",
     "start_time": "2020-09-20T19:35:21.606947Z"
    }
   },
   "outputs": [
    {
     "data": {
      "image/png": "[encoded data removed]",
      "text/plain": [
       "<Figure size 432x288 with 1 Axes>"
      ]
     },
     "metadata": {},
     "output_type": "display_data"
    }
   ],
   "source": [
    "# Do any of the numeric attributes show a clear non-linear dependence with the amount of income?\n",
    "plt.scatter(df.bmi, df.income);"
   ]
  },
  {
   "cell_type": "markdown",
   "metadata": {
    "cell_id": "eaed1594-de29-4e01-aae5-b6a7f76f6303",
    "colab_type": "text",
    "id": "kCMMuQiS652F",
    "tags": []
   },
   "source": [
    "### 5.7"
   ]
  },
  {
   "cell_type": "code",
   "execution_count": 40,
   "metadata": {
    "ExecuteTime": {
     "end_time": "2020-09-20T19:35:21.999682Z",
     "start_time": "2020-09-20T19:35:21.984447Z"
    },
    "jupyter": {
     "outputs_hidden": true
    }
   },
   "outputs": [
    {
     "data": {
      "text/plain": [
       "family_type\n",
       "0    14366.720\n",
       "1    13887.406\n",
       "2    11150.937\n",
       "3    14211.915\n",
       "Name: income, dtype: float64"
      ]
     },
     "execution_count": 40,
     "metadata": {},
     "output_type": "execute_result"
    }
   ],
   "source": [
    "# Is the income lower or high for those living in 'nuclear' families?\n",
    "\n",
    "# family_type - ('Doesn't Matter': 0, 'Others':3, 'Nuclear': 1, 'Joint family both parents': 2,\n",
    "# 'Joint family only mother':2, 'Joint family father mother and brothers sisters':2, \n",
    "# 'Joint family single parent brothers and or sisters':2, 'Joint family only father': 2)\n",
    "\n",
    "df.groupby(by=df['family_type'])['income'].mean()"
   ]
  },
  {
   "cell_type": "markdown",
   "metadata": {
    "cell_id": "eaed1594-de29-4e01-aae5-b6a7f76f6303",
    "colab_type": "text",
    "id": "kCMMuQiS652F",
    "tags": []
   },
   "source": [
    "### 5.8"
   ]
  },
  {
   "cell_type": "code",
   "execution_count": 41,
   "metadata": {
    "ExecuteTime": {
     "end_time": "2020-09-20T19:35:22.424330Z",
     "start_time": "2020-09-20T19:35:22.000684Z"
    },
    "jupyter": {
     "outputs_hidden": true
    }
   },
   "outputs": [
    {
     "data": {
      "text/plain": [
       "<matplotlib.collections.PathCollection at 0x19c26ee4cc8>"
      ]
     },
     "execution_count": 41,
     "metadata": {},
     "output_type": "execute_result"
    },
    {
     "data": {
      "image/png": "[encoded data removed]",
      "text/plain": [
       "<Figure size 432x288 with 1 Axes>"
      ]
     },
     "metadata": {},
     "output_type": "display_data"
    }
   ],
   "source": [
    "# Is being 'Manglik' negatively affect the income of participants?\n",
    "plt.scatter(df.manglik, df.income)"
   ]
  },
  {
   "cell_type": "markdown",
   "metadata": {
    "cell_id": "47c47e2e-427f-408c-9384-a92fa779b3aa"
   },
   "source": [
    "<div class=\"alert alert-block alert-danger\" style=\"color:black;background-color:#F6E6E2\">\n",
    "<b> Question 6:  Calculate the Gini Index  [10 points total]</b>\n",
    "\n",
    "\n",
    "Gini coefficients are often used to quantify income inequality, read more [here](http://www.statsdirect.com/help/default.htm#nonparametric_methods/gini.htm).\n",
    "\n",
    "The Gini coefficient is defined by the formula:\n",
    "\n",
    "$G = \\dfrac{ \\sum_{i=1}^{n} (2i - n - 1) x_i}{n  \\sum_{i=1}^{n} x_i}$\n",
    "\n",
    "where $x$ is an observed value, $n$ is the number of values observed and $i$ is the rank of values in **ascending** order.\n",
    "\n",
    "A Gini Index of 0 implies perfect income equality, whereas a gini index close to 1 implies a concentration of wealth among the richest few.\n",
    "<br /><br />\n",
    "**6.1** Based on the above formula, calculate the Gini coffient for the income of the participants of this dataset\n",
    "<br /><br />\n",
    "**6.2** Compare your gini index with other countries\n",
    "\n",
    "According to the [world bank estimate](https://www.indexmundi.com/facts/indicators/SI.POV.GINI/rankings) the gini index of South Africa is 0.6 while that of Ukrain is 0.25. \n",
    "\n",
    "Based on your calculated gini index value for this dataset, what is your conclusion on the income disparity in the three countries?"
   ]
  },
  {
   "cell_type": "markdown",
   "metadata": {},
   "source": [
    "### Solutions"
   ]
  },
  {
   "cell_type": "markdown",
   "metadata": {
    "cell_id": "eaed1594-de29-4e01-aae5-b6a7f76f6303",
    "colab_type": "text",
    "id": "kCMMuQiS652F",
    "tags": []
   },
   "source": [
    "### 6.1"
   ]
  },
  {
   "cell_type": "code",
   "execution_count": 42,
   "metadata": {
    "ExecuteTime": {
     "end_time": "2020-09-20T19:35:22.440367Z",
     "start_time": "2020-09-20T19:35:22.424330Z"
    },
    "cell_id": "5fe3f404-ec97-4146-ac4d-c44e54db51d3",
    "scrolled": true
   },
   "outputs": [
    {
     "name": "stdout",
     "output_type": "stream",
     "text": [
      "The gini index of income is: 0.49\n"
     ]
    }
   ],
   "source": [
    "# Function to calculate gini\n",
    "def gini(array):\n",
    "    \"\"\"Calculate the Gini coefficient of a numpy array.\"\"\"\n",
    "    array = np.sort(array)\n",
    "    i = np.arange(1, array.shape[0]+1)\n",
    "    n = array.shape[0]\n",
    "    return (np.sum( (2 * i - n - 1) * array )) / (n * np.sum(array))\n",
    "income_gini = gini(df.income.values)\n",
    "print(f\"The gini index of income is: {income_gini:.2f}\")"
   ]
  },
  {
   "cell_type": "markdown",
   "metadata": {
    "cell_id": "eaed1594-de29-4e01-aae5-b6a7f76f6303",
    "colab_type": "text",
    "id": "kCMMuQiS652F",
    "tags": []
   },
   "source": [
    "### 6.2"
   ]
  },
  {
   "cell_type": "markdown",
   "metadata": {
    "collapsed": true,
    "jupyter": {
     "outputs_hidden": true
    }
   },
   "source": [
    "**Our Gini index is close to the level of inequality that prevails in South Africa but the level of inequality of income dist. is double than the Ukrain**\n"
   ]
  },
  {
   "cell_type": "markdown",
   "metadata": {
    "cell_id": "8b3ed64a-92ac-482f-8f1d-bd1c6cbf772b"
   },
   "source": [
    "<div class=\"alert alert-block alert-danger\" style=\"color:black;background-color:#F6E6E2\">\n",
    "\n",
    "<b> Question 7:  Multi-Linear Regression  [Optional]</b>\n",
    "\n",
    "Now we increase the scope of our analysis to solve another problem that is related to income of the participants."
   ]
  },
  {
   "cell_type": "markdown",
   "metadata": {
    "cell_id": "9de3ea4c-961f-46c0-b308-febe73da6df0"
   },
   "source": [
    "![](https://github.com/hargun3045/blog-dump/blob/master/modi.png?raw=true)"
   ]
  },
  {
   "cell_type": "markdown",
   "metadata": {
    "cell_id": "d6f44620-e4b1-447d-841c-185066aae37f"
   },
   "source": [
    "<div class=\"alert alert-block alert-danger\" style=\"color:black;background-color:#F6E6E2\">\n",
    "\n",
    "Owing to a large number of people underreporting their income to evade taxes, the Income Tax Department of India wants you to build a machine learning model that can predict the income of a given tax-payer based on commonly available information.\n",
    "\n",
    "This will help the department red flag suspected individuals who may show discernable trends of earing more but are excessively under-reporting on their annual income.\n",
    "\n",
    "The goal is to build the best model with the given dataset, using both categorical and continuous predictors that are available."
   ]
  },
  {
   "cell_type": "markdown",
   "metadata": {
    "cell_id": "8edf8b8b-f950-4745-a886-2e991e6185cc"
   },
   "source": [
    "<div class=\"alert alert-block alert-danger\" style=\"color:black;background-color:#F6E6E2\">\n",
    "\n",
    "Fit a multiple linear regression model to the training set.\n",
    "Use the `sklearn` library.\n",
    "\n",
    "#### Deliverables\n",
    "Your code should be contained in a Jupyter notebook cell.  An appropriate level of comments is necessary.  Your code should run and output the required outputs described below.\n",
    "\n",
    "#### Required Outputs\n",
    "- Fit a multiple linear regression model on the training set\n",
    "- Predict on train and test sets\n",
    "- Calculate the MSE for the train & test set\n",
    "- Report the $R^2$ score on the test set.\n",
    "- Make a plot of Residuals vs Log of predicted values $\\hat{y}$, with residuals on the $Y$-axis and predicted values on the $X$-axis. Use the formula ${\\epsilon} = y - \\hat{y}$ to compute the residual values. Include a horizontal line denoting the zero residual value on the $Y$-axis.\n",
    "- Plot a histogram of the magnitudes of the residuals."
   ]
  },
  {
   "cell_type": "code",
   "execution_count": 43,
   "metadata": {
    "ExecuteTime": {
     "end_time": "2020-09-20T19:35:22.456083Z",
     "start_time": "2020-09-20T19:35:22.443368Z"
    },
    "cell_id": "f8b754ae-c406-4725-958d-46be330e54e0"
   },
   "outputs": [],
   "source": [
    "# Here we use another efficient way of splitting the datset into train and test sets using a \"mask\"\n",
    "\n",
    "#You can just run the code below, and just use df_train and df_test for this part of the homework directly\n",
    "\n",
    "mask = np.ones(len(df))\n",
    "\n",
    "# Using indices only\n",
    "\n",
    "itrain, itest = train_test_split(range(len(df)),train_size=0.8,random_state = 25)\n",
    "\n",
    "#setting all test indices as zero\n",
    "mask[itest] = 0\n",
    "\n",
    "# Converting mask into a boolean expression\n",
    "\n",
    "mask = mask==1"
   ]
  },
  {
   "cell_type": "code",
   "execution_count": 44,
   "metadata": {
    "ExecuteTime": {
     "end_time": "2020-09-20T19:35:22.471409Z",
     "start_time": "2020-09-20T19:35:22.459416Z"
    }
   },
   "outputs": [],
   "source": [
    "df_train = df[mask] # this will give you a dataframe of only training indicies\n",
    "df_test = df[~mask] # this will give you a dataframe of only test indicies"
   ]
  },
  {
   "cell_type": "code",
   "execution_count": 45,
   "metadata": {
    "ExecuteTime": {
     "end_time": "2020-09-20T19:35:22.499539Z",
     "start_time": "2020-09-20T19:35:22.475411Z"
    },
    "cell_id": "46d5d29e-ad75-4c45-947e-14ddf1e8208f"
   },
   "outputs": [
    {
     "data": {
      "text/html": [
       "<div>\n",
       "<style scoped>\n",
       "    .dataframe tbody tr th:only-of-type {\n",
       "        vertical-align: middle;\n",
       "    }\n",
       "\n",
       "    .dataframe tbody tr th {\n",
       "        vertical-align: top;\n",
       "    }\n",
       "\n",
       "    .dataframe thead th {\n",
       "        text-align: right;\n",
       "    }\n",
       "</style>\n",
       "<table border=\"1\" class=\"dataframe\">\n",
       "  <thead>\n",
       "    <tr style=\"text-align: right;\">\n",
       "      <th></th>\n",
       "      <th>age</th>\n",
       "      <th>gender</th>\n",
       "      <th>height</th>\n",
       "      <th>kgs</th>\n",
       "      <th>bmi</th>\n",
       "      <th>eating</th>\n",
       "      <th>status</th>\n",
       "      <th>marital_status</th>\n",
       "      <th>family_type</th>\n",
       "      <th>manglik</th>\n",
       "      <th>horoscope</th>\n",
       "      <th>drinking</th>\n",
       "      <th>smoking</th>\n",
       "      <th>values</th>\n",
       "      <th>complexion</th>\n",
       "      <th>body</th>\n",
       "      <th>caste_imp</th>\n",
       "      <th>employed</th>\n",
       "      <th>living</th>\n",
       "      <th>education</th>\n",
       "      <th>income</th>\n",
       "      <th>city</th>\n",
       "    </tr>\n",
       "  </thead>\n",
       "  <tbody>\n",
       "    <tr>\n",
       "      <th>1</th>\n",
       "      <td>28</td>\n",
       "      <td>0</td>\n",
       "      <td>66</td>\n",
       "      <td>62</td>\n",
       "      <td>22.062</td>\n",
       "      <td>2</td>\n",
       "      <td>2</td>\n",
       "      <td>1</td>\n",
       "      <td>2</td>\n",
       "      <td>2</td>\n",
       "      <td>1</td>\n",
       "      <td>1</td>\n",
       "      <td>1</td>\n",
       "      <td>2</td>\n",
       "      <td>2</td>\n",
       "      <td>2</td>\n",
       "      <td>1</td>\n",
       "      <td>4</td>\n",
       "      <td>1</td>\n",
       "      <td>2</td>\n",
       "      <td>7500</td>\n",
       "      <td>8</td>\n",
       "    </tr>\n",
       "    <tr>\n",
       "      <th>3</th>\n",
       "      <td>34</td>\n",
       "      <td>0</td>\n",
       "      <td>63</td>\n",
       "      <td>58</td>\n",
       "      <td>22.651</td>\n",
       "      <td>4</td>\n",
       "      <td>1</td>\n",
       "      <td>4</td>\n",
       "      <td>1</td>\n",
       "      <td>0</td>\n",
       "      <td>1</td>\n",
       "      <td>1</td>\n",
       "      <td>1</td>\n",
       "      <td>2</td>\n",
       "      <td>2</td>\n",
       "      <td>2</td>\n",
       "      <td>0</td>\n",
       "      <td>4</td>\n",
       "      <td>1</td>\n",
       "      <td>2</td>\n",
       "      <td>4167</td>\n",
       "      <td>10</td>\n",
       "    </tr>\n",
       "    <tr>\n",
       "      <th>5</th>\n",
       "      <td>43</td>\n",
       "      <td>1</td>\n",
       "      <td>65</td>\n",
       "      <td>70</td>\n",
       "      <td>25.680</td>\n",
       "      <td>2</td>\n",
       "      <td>1</td>\n",
       "      <td>1</td>\n",
       "      <td>2</td>\n",
       "      <td>0</td>\n",
       "      <td>0</td>\n",
       "      <td>1</td>\n",
       "      <td>1</td>\n",
       "      <td>4</td>\n",
       "      <td>2</td>\n",
       "      <td>2</td>\n",
       "      <td>0</td>\n",
       "      <td>4</td>\n",
       "      <td>1</td>\n",
       "      <td>2</td>\n",
       "      <td>2500</td>\n",
       "      <td>12</td>\n",
       "    </tr>\n",
       "    <tr>\n",
       "      <th>7</th>\n",
       "      <td>29</td>\n",
       "      <td>1</td>\n",
       "      <td>63</td>\n",
       "      <td>48</td>\n",
       "      <td>18.745</td>\n",
       "      <td>2</td>\n",
       "      <td>1</td>\n",
       "      <td>3</td>\n",
       "      <td>1</td>\n",
       "      <td>2</td>\n",
       "      <td>1</td>\n",
       "      <td>1</td>\n",
       "      <td>1</td>\n",
       "      <td>4</td>\n",
       "      <td>2</td>\n",
       "      <td>2</td>\n",
       "      <td>1</td>\n",
       "      <td>4</td>\n",
       "      <td>1</td>\n",
       "      <td>2</td>\n",
       "      <td>2500</td>\n",
       "      <td>12</td>\n",
       "    </tr>\n",
       "    <tr>\n",
       "      <th>8</th>\n",
       "      <td>46</td>\n",
       "      <td>1</td>\n",
       "      <td>66</td>\n",
       "      <td>72</td>\n",
       "      <td>25.620</td>\n",
       "      <td>3</td>\n",
       "      <td>1</td>\n",
       "      <td>1</td>\n",
       "      <td>2</td>\n",
       "      <td>1</td>\n",
       "      <td>1</td>\n",
       "      <td>1</td>\n",
       "      <td>1</td>\n",
       "      <td>3</td>\n",
       "      <td>1</td>\n",
       "      <td>4</td>\n",
       "      <td>0</td>\n",
       "      <td>6</td>\n",
       "      <td>1</td>\n",
       "      <td>3</td>\n",
       "      <td>14167</td>\n",
       "      <td>7</td>\n",
       "    </tr>\n",
       "  </tbody>\n",
       "</table>\n",
       "</div>"
      ],
      "text/plain": [
       "   age  gender  height  kgs     bmi  eating  status  marital_status  \\\n",
       "1   28       0      66   62  22.062       2       2               1   \n",
       "3   34       0      63   58  22.651       4       1               4   \n",
       "5   43       1      65   70  25.680       2       1               1   \n",
       "7   29       1      63   48  18.745       2       1               3   \n",
       "8   46       1      66   72  25.620       3       1               1   \n",
       "\n",
       "   family_type  manglik  horoscope  drinking  smoking  values  complexion  \\\n",
       "1            2        2          1         1        1       2           2   \n",
       "3            1        0          1         1        1       2           2   \n",
       "5            2        0          0         1        1       4           2   \n",
       "7            1        2          1         1        1       4           2   \n",
       "8            2        1          1         1        1       3           1   \n",
       "\n",
       "   body  caste_imp  employed  living  education  income  city  \n",
       "1     2          1         4       1          2    7500     8  \n",
       "3     2          0         4       1          2    4167    10  \n",
       "5     2          0         4       1          2    2500    12  \n",
       "7     2          1         4       1          2    2500    12  \n",
       "8     4          0         6       1          3   14167     7  "
      ]
     },
     "execution_count": 45,
     "metadata": {},
     "output_type": "execute_result"
    }
   ],
   "source": [
    "# A quick look of the training dataframe\n",
    "df_train.head()"
   ]
  },
  {
   "cell_type": "code",
   "execution_count": 48,
   "metadata": {
    "ExecuteTime": {
     "end_time": "2020-09-20T19:36:09.873617Z",
     "start_time": "2020-09-20T19:36:09.066205Z"
    },
    "cell_id": "3e92c915-d65d-4fbb-bb99-82415a3be594",
    "scrolled": true
   },
   "outputs": [
    {
     "name": "stdout",
     "output_type": "stream",
     "text": [
      "Train MSE: 161144309.8854503\n",
      "Test MSE: 235321306.17749578\n",
      "R2 score on test set: 0.402925987423411\n"
     ]
    },
    {
     "data": {
      "image/png": "[encoded data removed]",
      "text/plain": [
       "<Figure size 1080x432 with 2 Axes>"
      ]
     },
     "metadata": {},
     "output_type": "display_data"
    }
   ],
   "source": [
    "# choosing predictor and response variables on train and test set\n",
    "X_train = df_train.drop('income', axis=1)\n",
    "y_train = df_train.income\n",
    "X_test = df_test.drop('income', axis=1)\n",
    "y_test = df_test.income\n",
    "\n",
    "# Create an object of LinearRegression\n",
    "mlinreg = LinearRegression()\n",
    "\n",
    "# fit the train data to the model\n",
    "mlinreg.fit(X_train, y_train)\n",
    "\n",
    "# predict on train set\n",
    "y_train_preds = mlinreg.predict(X_train)\n",
    "\n",
    "# predict on test set\n",
    "y_test_preds = mlinreg.predict(X_test)\n",
    "\n",
    "# calculate mse on train and test set\n",
    "train_mse = mean_squared_error(y_train, y_train_preds)\n",
    "test_mse = mean_squared_error(y_test, y_test_preds)\n",
    "\n",
    "# calculate R2 score on test set\n",
    "test_R2 = r2_score(y_test, y_test_preds)\n",
    "\n",
    "# Print all the infor\n",
    "print(f\"Train MSE: {train_mse}\")\n",
    "print(f\"Test MSE: {test_mse}\")\n",
    "print(f\"R2 score on test set: {test_R2}\")\n",
    "\n",
    "# calculate residuals\n",
    "mlin_residuals = y_test - y_test_preds\n",
    "\n",
    "# Plot\n",
    "fig, ax = plt.subplots(1, 2, figsize=(15, 6))\n",
    "ax[0].scatter(y_test_preds, mlin_residuals)\n",
    "ax[0].set_title('Residuals vs Log of predicted values')\n",
    "ax[0].axhline(0, color='red')\n",
    "ax[0].set_xlabel('Predicted Values')\n",
    "ax[0].set_ylabel('Residuals')\n",
    "ax[1].hist(mlin_residuals)\n",
    "ax[1].set_xlabel('Residuals')\n",
    "ax[1].set_ylabel('Frequency')\n",
    "ax[1].set_title('Distribution of Residuals')\n",
    "plt.show()"
   ]
  },
  {
   "cell_type": "markdown",
   "metadata": {},
   "source": [
    "**From the above observation we can see that the distribution is also not normal and the residual plot also has some non linear pattern**"
   ]
  },
  {
   "cell_type": "markdown",
   "metadata": {
    "cell_id": "21878c27-2dc1-4147-8890-e344f6e7a65c"
   },
   "source": [
    "<div class=\"alert alert-block alert-danger\" style=\"color:black;background-color:#F6E6E2\">\n",
    "<h2 style=\"color:black;background-color:#F6E6E2\"> Part C :  In-class competition: Kaggle Contest [Optional] </h2><br />\n",
    "\n",
    "\n",
    "For this part of the exercise, you will compete with each other in a Kaggle contest. The results will be displayed live on a public leaderboard. The competition ends on the due date and time of this homework.\n",
    "\n",
    "Participating in [Kaggle](#www.kaggle.com) competitions is a great way to practice your data science skills. Submitting a model and seeing how your results compare with those of others helps you assess your model.\n",
    "\n",
    "Please access the following link for all relevant details (data set, submission instructions, evaluation metric, leader board, etc.):\n",
    "https://www.kaggle.com/c/c001hw1/overview\n",
    "\n",
    "### Problem Description\n",
    "\n",
    "As you can see in your previous analysis, although the distribution of the residuals appear normally distributed, the plot of the ```residuals``` with the ```predicted income values``` shows some missing interaction between the predictors.\n",
    "\n",
    "You are encouraged to experiment with ways to improve your model. Some ideas are given below:\n",
    "- Polynomial terms for continous variables\n",
    "- Interaction terms between variables\n",
    "- Feature selection among given predictors\n",
    "\n",
    "You are allowed to make multiple entries. The winning model will be the one with the highest $R^2$ score on the test set.\n",
    "\n",
    "The winning team will win a prize by Pavlos."
   ]
  }
 ],
 "metadata": {
  "colab": {
   "collapsed_sections": [],
   "name": "hw1-part1.ipynb",
   "provenance": []
  },
  "deepnote_execution_queue": [],
  "deepnote_notebook_id": "5e5027d5-1cf7-4394-a1d5-c57eaedde1db",
  "kernelspec": {
   "display_name": "Python 3",
   "language": "python",
   "name": "python3"
  },
  "language_info": {
   "codemirror_mode": {
    "name": "ipython",
    "version": 3
   },
   "file_extension": ".py",
   "mimetype": "text/x-python",
   "name": "python",
   "nbconvert_exporter": "python",
   "pygments_lexer": "ipython3",
   "version": "3.7.8"
  }
 },
 "nbformat": 4,
 "nbformat_minor": 4
}
